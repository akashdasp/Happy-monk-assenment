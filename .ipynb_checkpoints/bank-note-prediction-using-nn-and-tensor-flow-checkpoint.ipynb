{
 "cells": [
  {
   "cell_type": "code",
   "execution_count": 1,
   "metadata": {
    "_cell_guid": "b1076dfc-b9ad-4769-8c92-a6c4dae69d19",
    "_uuid": "8f2839f25d086af736a60e9eeb907d3b93b6e0e5",
    "execution": {
     "iopub.execute_input": "2020-08-30T18:47:46.982576Z",
     "iopub.status.busy": "2020-08-30T18:47:46.981553Z",
     "iopub.status.idle": "2020-08-30T18:47:46.988730Z",
     "shell.execute_reply": "2020-08-30T18:47:46.989921Z"
    },
    "papermill": {
     "duration": 0.027047,
     "end_time": "2020-08-30T18:47:46.990195",
     "exception": false,
     "start_time": "2020-08-30T18:47:46.963148",
     "status": "completed"
    },
    "tags": []
   },
   "outputs": [
    {
     "name": "stdout",
     "output_type": "stream",
     "text": [
      "/kaggle/input/bank-note-authentication-uci-data/BankNote_Authentication.csv\n"
     ]
    }
   ],
   "source": [
    "# This Python 3 environment comes with many helpful analytics libraries installed\n",
    "# It is defined by the kaggle/python Docker image: https://github.com/kaggle/docker-python\n",
    "# For example, here's several helpful packages to load\n",
    "\n",
    "import numpy as np # linear algebra\n",
    "import pandas as pd # data processing, CSV file I/O (e.g. pd.read_csv)\n",
    "\n",
    "# Input data files are available in the read-only \"../input/\" directory\n",
    "# For example, running this (by clicking run or pressing Shift+Enter) will list all files under the input directory\n",
    "\n",
    "import os\n",
    "for dirname, _, filenames in os.walk('/kaggle/input'):\n",
    "    for filename in filenames:\n",
    "        print(os.path.join(dirname, filename))\n",
    "\n",
    "# You can write up to 5GB to the current directory (/kaggle/working/) that gets preserved as output when you create a version using \"Save & Run All\" \n",
    "# You can also write temporary files to /kaggle/temp/, but they won't be saved outside of the current session"
   ]
  },
  {
   "cell_type": "code",
   "execution_count": 2,
   "metadata": {
    "_cell_guid": "79c7e3d0-c299-4dcb-8224-4455121ee9b0",
    "_uuid": "d629ff2d2480ee46fbb7e2d37f6b5fab8052498a",
    "execution": {
     "iopub.execute_input": "2020-08-30T18:47:47.024104Z",
     "iopub.status.busy": "2020-08-30T18:47:47.022928Z",
     "iopub.status.idle": "2020-08-30T18:47:47.039886Z",
     "shell.execute_reply": "2020-08-30T18:47:47.038991Z"
    },
    "papermill": {
     "duration": 0.038339,
     "end_time": "2020-08-30T18:47:47.040048",
     "exception": false,
     "start_time": "2020-08-30T18:47:47.001709",
     "status": "completed"
    },
    "tags": []
   },
   "outputs": [],
   "source": [
    "bank_note_data=pd.read_csv('/kaggle/input/bank-note-authentication-uci-data/BankNote_Authentication.csv')"
   ]
  },
  {
   "cell_type": "code",
   "execution_count": 3,
   "metadata": {
    "execution": {
     "iopub.execute_input": "2020-08-30T18:47:47.073964Z",
     "iopub.status.busy": "2020-08-30T18:47:47.073168Z",
     "iopub.status.idle": "2020-08-30T18:47:55.911690Z",
     "shell.execute_reply": "2020-08-30T18:47:55.912826Z"
    },
    "papermill": {
     "duration": 8.860845,
     "end_time": "2020-08-30T18:47:55.913029",
     "exception": false,
     "start_time": "2020-08-30T18:47:47.052184",
     "status": "completed"
    },
    "tags": []
   },
   "outputs": [
    {
     "name": "stdout",
     "output_type": "stream",
     "text": [
      "2.3.0\n"
     ]
    }
   ],
   "source": [
    "import pathlib, os\n",
    "import matplotlib.pyplot as plt\n",
    "import seaborn as sns\n",
    "\n",
    "import tensorflow as tf\n",
    "print(tf.__version__)"
   ]
  },
  {
   "cell_type": "code",
   "execution_count": 4,
   "metadata": {
    "execution": {
     "iopub.execute_input": "2020-08-30T18:47:55.952723Z",
     "iopub.status.busy": "2020-08-30T18:47:55.950708Z",
     "iopub.status.idle": "2020-08-30T18:47:55.964118Z",
     "shell.execute_reply": "2020-08-30T18:47:55.964909Z"
    },
    "papermill": {
     "duration": 0.040528,
     "end_time": "2020-08-30T18:47:55.965073",
     "exception": false,
     "start_time": "2020-08-30T18:47:55.924545",
     "status": "completed"
    },
    "tags": []
   },
   "outputs": [
    {
     "data": {
      "text/html": [
       "<div>\n",
       "<style scoped>\n",
       "    .dataframe tbody tr th:only-of-type {\n",
       "        vertical-align: middle;\n",
       "    }\n",
       "\n",
       "    .dataframe tbody tr th {\n",
       "        vertical-align: top;\n",
       "    }\n",
       "\n",
       "    .dataframe thead th {\n",
       "        text-align: right;\n",
       "    }\n",
       "</style>\n",
       "<table border=\"1\" class=\"dataframe\">\n",
       "  <thead>\n",
       "    <tr style=\"text-align: right;\">\n",
       "      <th></th>\n",
       "      <th>variance</th>\n",
       "      <th>skewness</th>\n",
       "      <th>curtosis</th>\n",
       "      <th>entropy</th>\n",
       "      <th>class</th>\n",
       "    </tr>\n",
       "  </thead>\n",
       "  <tbody>\n",
       "    <tr>\n",
       "      <th>0</th>\n",
       "      <td>3.62160</td>\n",
       "      <td>8.6661</td>\n",
       "      <td>-2.8073</td>\n",
       "      <td>-0.44699</td>\n",
       "      <td>0</td>\n",
       "    </tr>\n",
       "    <tr>\n",
       "      <th>1</th>\n",
       "      <td>4.54590</td>\n",
       "      <td>8.1674</td>\n",
       "      <td>-2.4586</td>\n",
       "      <td>-1.46210</td>\n",
       "      <td>0</td>\n",
       "    </tr>\n",
       "    <tr>\n",
       "      <th>2</th>\n",
       "      <td>3.86600</td>\n",
       "      <td>-2.6383</td>\n",
       "      <td>1.9242</td>\n",
       "      <td>0.10645</td>\n",
       "      <td>0</td>\n",
       "    </tr>\n",
       "    <tr>\n",
       "      <th>3</th>\n",
       "      <td>3.45660</td>\n",
       "      <td>9.5228</td>\n",
       "      <td>-4.0112</td>\n",
       "      <td>-3.59440</td>\n",
       "      <td>0</td>\n",
       "    </tr>\n",
       "    <tr>\n",
       "      <th>4</th>\n",
       "      <td>0.32924</td>\n",
       "      <td>-4.4552</td>\n",
       "      <td>4.5718</td>\n",
       "      <td>-0.98880</td>\n",
       "      <td>0</td>\n",
       "    </tr>\n",
       "  </tbody>\n",
       "</table>\n",
       "</div>"
      ],
      "text/plain": [
       "   variance  skewness  curtosis  entropy  class\n",
       "0   3.62160    8.6661   -2.8073 -0.44699      0\n",
       "1   4.54590    8.1674   -2.4586 -1.46210      0\n",
       "2   3.86600   -2.6383    1.9242  0.10645      0\n",
       "3   3.45660    9.5228   -4.0112 -3.59440      0\n",
       "4   0.32924   -4.4552    4.5718 -0.98880      0"
      ]
     },
     "execution_count": 4,
     "metadata": {},
     "output_type": "execute_result"
    }
   ],
   "source": [
    "bank_note_data.head()"
   ]
  },
  {
   "cell_type": "code",
   "execution_count": 5,
   "metadata": {
    "execution": {
     "iopub.execute_input": "2020-08-30T18:47:56.016022Z",
     "iopub.status.busy": "2020-08-30T18:47:55.995511Z",
     "iopub.status.idle": "2020-08-30T18:47:56.021225Z",
     "shell.execute_reply": "2020-08-30T18:47:56.019945Z"
    },
    "papermill": {
     "duration": 0.044296,
     "end_time": "2020-08-30T18:47:56.021516",
     "exception": false,
     "start_time": "2020-08-30T18:47:55.977220",
     "status": "completed"
    },
    "tags": []
   },
   "outputs": [
    {
     "name": "stdout",
     "output_type": "stream",
     "text": [
      "<class 'pandas.core.frame.DataFrame'>\n",
      "RangeIndex: 1372 entries, 0 to 1371\n",
      "Data columns (total 5 columns):\n",
      " #   Column    Non-Null Count  Dtype  \n",
      "---  ------    --------------  -----  \n",
      " 0   variance  1372 non-null   float64\n",
      " 1   skewness  1372 non-null   float64\n",
      " 2   curtosis  1372 non-null   float64\n",
      " 3   entropy   1372 non-null   float64\n",
      " 4   class     1372 non-null   int64  \n",
      "dtypes: float64(4), int64(1)\n",
      "memory usage: 53.7 KB\n"
     ]
    }
   ],
   "source": [
    "bank_note_data.info()"
   ]
  },
  {
   "cell_type": "markdown",
   "metadata": {
    "papermill": {
     "duration": 0.012385,
     "end_time": "2020-08-30T18:47:56.048129",
     "exception": false,
     "start_time": "2020-08-30T18:47:56.035744",
     "status": "completed"
    },
    "tags": []
   },
   "source": [
    "The above concludes that we have 1372 rows and all are not null."
   ]
  },
  {
   "cell_type": "code",
   "execution_count": 6,
   "metadata": {
    "execution": {
     "iopub.execute_input": "2020-08-30T18:47:56.085930Z",
     "iopub.status.busy": "2020-08-30T18:47:56.085119Z",
     "iopub.status.idle": "2020-08-30T18:47:56.113713Z",
     "shell.execute_reply": "2020-08-30T18:47:56.112639Z"
    },
    "papermill": {
     "duration": 0.053097,
     "end_time": "2020-08-30T18:47:56.113868",
     "exception": false,
     "start_time": "2020-08-30T18:47:56.060771",
     "status": "completed"
    },
    "tags": []
   },
   "outputs": [
    {
     "data": {
      "text/html": [
       "<div>\n",
       "<style scoped>\n",
       "    .dataframe tbody tr th:only-of-type {\n",
       "        vertical-align: middle;\n",
       "    }\n",
       "\n",
       "    .dataframe tbody tr th {\n",
       "        vertical-align: top;\n",
       "    }\n",
       "\n",
       "    .dataframe thead th {\n",
       "        text-align: right;\n",
       "    }\n",
       "</style>\n",
       "<table border=\"1\" class=\"dataframe\">\n",
       "  <thead>\n",
       "    <tr style=\"text-align: right;\">\n",
       "      <th></th>\n",
       "      <th>variance</th>\n",
       "      <th>skewness</th>\n",
       "      <th>curtosis</th>\n",
       "      <th>entropy</th>\n",
       "      <th>class</th>\n",
       "    </tr>\n",
       "  </thead>\n",
       "  <tbody>\n",
       "    <tr>\n",
       "      <th>count</th>\n",
       "      <td>1372.000000</td>\n",
       "      <td>1372.000000</td>\n",
       "      <td>1372.000000</td>\n",
       "      <td>1372.000000</td>\n",
       "      <td>1372.000000</td>\n",
       "    </tr>\n",
       "    <tr>\n",
       "      <th>mean</th>\n",
       "      <td>0.433735</td>\n",
       "      <td>1.922353</td>\n",
       "      <td>1.397627</td>\n",
       "      <td>-1.191657</td>\n",
       "      <td>0.444606</td>\n",
       "    </tr>\n",
       "    <tr>\n",
       "      <th>std</th>\n",
       "      <td>2.842763</td>\n",
       "      <td>5.869047</td>\n",
       "      <td>4.310030</td>\n",
       "      <td>2.101013</td>\n",
       "      <td>0.497103</td>\n",
       "    </tr>\n",
       "    <tr>\n",
       "      <th>min</th>\n",
       "      <td>-7.042100</td>\n",
       "      <td>-13.773100</td>\n",
       "      <td>-5.286100</td>\n",
       "      <td>-8.548200</td>\n",
       "      <td>0.000000</td>\n",
       "    </tr>\n",
       "    <tr>\n",
       "      <th>25%</th>\n",
       "      <td>-1.773000</td>\n",
       "      <td>-1.708200</td>\n",
       "      <td>-1.574975</td>\n",
       "      <td>-2.413450</td>\n",
       "      <td>0.000000</td>\n",
       "    </tr>\n",
       "    <tr>\n",
       "      <th>50%</th>\n",
       "      <td>0.496180</td>\n",
       "      <td>2.319650</td>\n",
       "      <td>0.616630</td>\n",
       "      <td>-0.586650</td>\n",
       "      <td>0.000000</td>\n",
       "    </tr>\n",
       "    <tr>\n",
       "      <th>75%</th>\n",
       "      <td>2.821475</td>\n",
       "      <td>6.814625</td>\n",
       "      <td>3.179250</td>\n",
       "      <td>0.394810</td>\n",
       "      <td>1.000000</td>\n",
       "    </tr>\n",
       "    <tr>\n",
       "      <th>max</th>\n",
       "      <td>6.824800</td>\n",
       "      <td>12.951600</td>\n",
       "      <td>17.927400</td>\n",
       "      <td>2.449500</td>\n",
       "      <td>1.000000</td>\n",
       "    </tr>\n",
       "  </tbody>\n",
       "</table>\n",
       "</div>"
      ],
      "text/plain": [
       "          variance     skewness     curtosis      entropy        class\n",
       "count  1372.000000  1372.000000  1372.000000  1372.000000  1372.000000\n",
       "mean      0.433735     1.922353     1.397627    -1.191657     0.444606\n",
       "std       2.842763     5.869047     4.310030     2.101013     0.497103\n",
       "min      -7.042100   -13.773100    -5.286100    -8.548200     0.000000\n",
       "25%      -1.773000    -1.708200    -1.574975    -2.413450     0.000000\n",
       "50%       0.496180     2.319650     0.616630    -0.586650     0.000000\n",
       "75%       2.821475     6.814625     3.179250     0.394810     1.000000\n",
       "max       6.824800    12.951600    17.927400     2.449500     1.000000"
      ]
     },
     "execution_count": 6,
     "metadata": {},
     "output_type": "execute_result"
    }
   ],
   "source": [
    "bank_note_data.describe()"
   ]
  },
  {
   "cell_type": "markdown",
   "metadata": {
    "papermill": {
     "duration": 0.012509,
     "end_time": "2020-08-30T18:47:56.139424",
     "exception": false,
     "start_time": "2020-08-30T18:47:56.126915",
     "status": "completed"
    },
    "tags": []
   },
   "source": [
    "The data is not on the same scale as can be concluded from above."
   ]
  },
  {
   "cell_type": "code",
   "execution_count": 7,
   "metadata": {
    "execution": {
     "iopub.execute_input": "2020-08-30T18:47:56.171593Z",
     "iopub.status.busy": "2020-08-30T18:47:56.170753Z",
     "iopub.status.idle": "2020-08-30T18:47:57.578284Z",
     "shell.execute_reply": "2020-08-30T18:47:57.577546Z"
    },
    "papermill": {
     "duration": 1.426166,
     "end_time": "2020-08-30T18:47:57.578424",
     "exception": false,
     "start_time": "2020-08-30T18:47:56.152258",
     "status": "completed"
    },
    "tags": []
   },
   "outputs": [
    {
     "data": {
      "text/plain": [
       "array([[<matplotlib.axes._subplots.AxesSubplot object at 0x7f48356bd6d0>,\n",
       "        <matplotlib.axes._subplots.AxesSubplot object at 0x7f48354e4c10>,\n",
       "        <matplotlib.axes._subplots.AxesSubplot object at 0x7f48354282d0>,\n",
       "        <matplotlib.axes._subplots.AxesSubplot object at 0x7f483545e950>],\n",
       "       [<matplotlib.axes._subplots.AxesSubplot object at 0x7f483540bb10>,\n",
       "        <matplotlib.axes._subplots.AxesSubplot object at 0x7f48353c3b10>,\n",
       "        <matplotlib.axes._subplots.AxesSubplot object at 0x7f483538f610>,\n",
       "        <matplotlib.axes._subplots.AxesSubplot object at 0x7f4835344ad0>]],\n",
       "      dtype=object)"
      ]
     },
     "execution_count": 7,
     "metadata": {},
     "output_type": "execute_result"
    },
    {
     "data": {
      "image/png": "[encoded data removed]",
      "text/plain": [
       "<Figure size 1440x720 with 8 Axes>"
      ]
     },
     "metadata": {
      "needs_background": "light"
     },
     "output_type": "display_data"
    }
   ],
   "source": [
    "bank_note_data.hist(figsize=(20,10), grid =False, layout = (2,4), bins=30)"
   ]
  },
  {
   "cell_type": "code",
   "execution_count": 8,
   "metadata": {
    "execution": {
     "iopub.execute_input": "2020-08-30T18:47:57.614567Z",
     "iopub.status.busy": "2020-08-30T18:47:57.613382Z",
     "iopub.status.idle": "2020-08-30T18:47:58.909116Z",
     "shell.execute_reply": "2020-08-30T18:47:58.909733Z"
    },
    "papermill": {
     "duration": 1.318198,
     "end_time": "2020-08-30T18:47:58.909890",
     "exception": false,
     "start_time": "2020-08-30T18:47:57.591692",
     "status": "completed"
    },
    "tags": []
   },
   "outputs": [
    {
     "data": {
      "text/plain": [
       "<matplotlib.axes._subplots.AxesSubplot at 0x7f4834c60f10>"
      ]
     },
     "execution_count": 8,
     "metadata": {},
     "output_type": "execute_result"
    },
    {
     "data": {
      "image/png": "[encoded data removed]",
      "text/plain": [
       "<Figure size 1440x504 with 1 Axes>"
      ]
     },
     "metadata": {
      "needs_background": "light"
     },
     "output_type": "display_data"
    }
   ],
   "source": [
    "plt.figure(figsize = (20,7))\n",
    "sns.swarmplot(x = 'class', y = 'curtosis', data = bank_note_data, hue = 'class')\n",
    "sns.violinplot(x = 'class', y = 'curtosis', data = bank_note_data)"
   ]
  },
  {
   "cell_type": "code",
   "execution_count": 9,
   "metadata": {
    "execution": {
     "iopub.execute_input": "2020-08-30T18:47:58.948198Z",
     "iopub.status.busy": "2020-08-30T18:47:58.947340Z",
     "iopub.status.idle": "2020-08-30T18:47:59.035472Z",
     "shell.execute_reply": "2020-08-30T18:47:59.034605Z"
    },
    "papermill": {
     "duration": 0.110986,
     "end_time": "2020-08-30T18:47:59.035637",
     "exception": false,
     "start_time": "2020-08-30T18:47:58.924651",
     "status": "completed"
    },
    "tags": []
   },
   "outputs": [],
   "source": [
    "#Standardize rows into uniform scale.\n",
    "\n",
    "X= bank_note_data.drop(['class'], axis=1)\n",
    "y= bank_note_data['class']\n",
    "\n",
    "from sklearn.preprocessing import StandardScaler\n",
    "\n",
    "scaler = StandardScaler()\n",
    "scaler.fit(X)\n",
    "\n",
    "#Scale and centre the data\n",
    "\n",
    "bank_note_data_normalized = scaler.transform(X)\n",
    "\n",
    "#Create a pandas dataframe\n",
    "\n",
    "bank_note_data_normalized = pd.DataFrame(data = X, index= X.index, columns= X.columns)"
   ]
  },
  {
   "cell_type": "code",
   "execution_count": 10,
   "metadata": {
    "execution": {
     "iopub.execute_input": "2020-08-30T18:47:59.078103Z",
     "iopub.status.busy": "2020-08-30T18:47:59.077313Z",
     "iopub.status.idle": "2020-08-30T18:47:59.099931Z",
     "shell.execute_reply": "2020-08-30T18:47:59.099248Z"
    },
    "papermill": {
     "duration": 0.048347,
     "end_time": "2020-08-30T18:47:59.100070",
     "exception": false,
     "start_time": "2020-08-30T18:47:59.051723",
     "status": "completed"
    },
    "tags": []
   },
   "outputs": [
    {
     "data": {
      "text/html": [
       "<div>\n",
       "<style scoped>\n",
       "    .dataframe tbody tr th:only-of-type {\n",
       "        vertical-align: middle;\n",
       "    }\n",
       "\n",
       "    .dataframe tbody tr th {\n",
       "        vertical-align: top;\n",
       "    }\n",
       "\n",
       "    .dataframe thead th {\n",
       "        text-align: right;\n",
       "    }\n",
       "</style>\n",
       "<table border=\"1\" class=\"dataframe\">\n",
       "  <thead>\n",
       "    <tr style=\"text-align: right;\">\n",
       "      <th></th>\n",
       "      <th>variance</th>\n",
       "      <th>skewness</th>\n",
       "      <th>curtosis</th>\n",
       "      <th>entropy</th>\n",
       "    </tr>\n",
       "  </thead>\n",
       "  <tbody>\n",
       "    <tr>\n",
       "      <th>count</th>\n",
       "      <td>1372.000000</td>\n",
       "      <td>1372.000000</td>\n",
       "      <td>1372.000000</td>\n",
       "      <td>1372.000000</td>\n",
       "    </tr>\n",
       "    <tr>\n",
       "      <th>mean</th>\n",
       "      <td>0.433735</td>\n",
       "      <td>1.922353</td>\n",
       "      <td>1.397627</td>\n",
       "      <td>-1.191657</td>\n",
       "    </tr>\n",
       "    <tr>\n",
       "      <th>std</th>\n",
       "      <td>2.842763</td>\n",
       "      <td>5.869047</td>\n",
       "      <td>4.310030</td>\n",
       "      <td>2.101013</td>\n",
       "    </tr>\n",
       "    <tr>\n",
       "      <th>min</th>\n",
       "      <td>-7.042100</td>\n",
       "      <td>-13.773100</td>\n",
       "      <td>-5.286100</td>\n",
       "      <td>-8.548200</td>\n",
       "    </tr>\n",
       "    <tr>\n",
       "      <th>25%</th>\n",
       "      <td>-1.773000</td>\n",
       "      <td>-1.708200</td>\n",
       "      <td>-1.574975</td>\n",
       "      <td>-2.413450</td>\n",
       "    </tr>\n",
       "    <tr>\n",
       "      <th>50%</th>\n",
       "      <td>0.496180</td>\n",
       "      <td>2.319650</td>\n",
       "      <td>0.616630</td>\n",
       "      <td>-0.586650</td>\n",
       "    </tr>\n",
       "    <tr>\n",
       "      <th>75%</th>\n",
       "      <td>2.821475</td>\n",
       "      <td>6.814625</td>\n",
       "      <td>3.179250</td>\n",
       "      <td>0.394810</td>\n",
       "    </tr>\n",
       "    <tr>\n",
       "      <th>max</th>\n",
       "      <td>6.824800</td>\n",
       "      <td>12.951600</td>\n",
       "      <td>17.927400</td>\n",
       "      <td>2.449500</td>\n",
       "    </tr>\n",
       "  </tbody>\n",
       "</table>\n",
       "</div>"
      ],
      "text/plain": [
       "          variance     skewness     curtosis      entropy\n",
       "count  1372.000000  1372.000000  1372.000000  1372.000000\n",
       "mean      0.433735     1.922353     1.397627    -1.191657\n",
       "std       2.842763     5.869047     4.310030     2.101013\n",
       "min      -7.042100   -13.773100    -5.286100    -8.548200\n",
       "25%      -1.773000    -1.708200    -1.574975    -2.413450\n",
       "50%       0.496180     2.319650     0.616630    -0.586650\n",
       "75%       2.821475     6.814625     3.179250     0.394810\n",
       "max       6.824800    12.951600    17.927400     2.449500"
      ]
     },
     "execution_count": 10,
     "metadata": {},
     "output_type": "execute_result"
    }
   ],
   "source": [
    "bank_note_data_normalized.describe()"
   ]
  },
  {
   "cell_type": "code",
   "execution_count": 11,
   "metadata": {
    "execution": {
     "iopub.execute_input": "2020-08-30T18:47:59.136464Z",
     "iopub.status.busy": "2020-08-30T18:47:59.135588Z",
     "iopub.status.idle": "2020-08-30T18:47:59.213693Z",
     "shell.execute_reply": "2020-08-30T18:47:59.212885Z"
    },
    "papermill": {
     "duration": 0.098888,
     "end_time": "2020-08-30T18:47:59.213832",
     "exception": false,
     "start_time": "2020-08-30T18:47:59.114944",
     "status": "completed"
    },
    "tags": []
   },
   "outputs": [],
   "source": [
    "from sklearn.model_selection import train_test_split\n",
    "X_train, X_test, y_train, y_test = train_test_split(X, y, test_size = 0.3, random_state = 0,stratify=bank_note_data['class'])"
   ]
  },
  {
   "cell_type": "code",
   "execution_count": 12,
   "metadata": {
    "execution": {
     "iopub.execute_input": "2020-08-30T18:47:59.251304Z",
     "iopub.status.busy": "2020-08-30T18:47:59.250182Z",
     "iopub.status.idle": "2020-08-30T18:47:59.255187Z",
     "shell.execute_reply": "2020-08-30T18:47:59.254435Z"
    },
    "papermill": {
     "duration": 0.026586,
     "end_time": "2020-08-30T18:47:59.255323",
     "exception": false,
     "start_time": "2020-08-30T18:47:59.228737",
     "status": "completed"
    },
    "tags": []
   },
   "outputs": [
    {
     "data": {
      "text/plain": [
       "(960, 4)"
      ]
     },
     "execution_count": 12,
     "metadata": {},
     "output_type": "execute_result"
    }
   ],
   "source": [
    "X_train.shape"
   ]
  },
  {
   "cell_type": "code",
   "execution_count": 13,
   "metadata": {
    "execution": {
     "iopub.execute_input": "2020-08-30T18:47:59.292058Z",
     "iopub.status.busy": "2020-08-30T18:47:59.290878Z",
     "iopub.status.idle": "2020-08-30T18:47:59.295907Z",
     "shell.execute_reply": "2020-08-30T18:47:59.295089Z"
    },
    "papermill": {
     "duration": 0.025584,
     "end_time": "2020-08-30T18:47:59.296033",
     "exception": false,
     "start_time": "2020-08-30T18:47:59.270449",
     "status": "completed"
    },
    "tags": []
   },
   "outputs": [
    {
     "data": {
      "text/plain": [
       "(412, 4)"
      ]
     },
     "execution_count": 13,
     "metadata": {},
     "output_type": "execute_result"
    }
   ],
   "source": [
    "X_test.shape"
   ]
  },
  {
   "cell_type": "code",
   "execution_count": 14,
   "metadata": {
    "execution": {
     "iopub.execute_input": "2020-08-30T18:47:59.332063Z",
     "iopub.status.busy": "2020-08-30T18:47:59.331191Z",
     "iopub.status.idle": "2020-08-30T18:47:59.334883Z",
     "shell.execute_reply": "2020-08-30T18:47:59.335450Z"
    },
    "papermill": {
     "duration": 0.024591,
     "end_time": "2020-08-30T18:47:59.335639",
     "exception": false,
     "start_time": "2020-08-30T18:47:59.311048",
     "status": "completed"
    },
    "tags": []
   },
   "outputs": [
    {
     "data": {
      "text/plain": [
       "(960,)"
      ]
     },
     "execution_count": 14,
     "metadata": {},
     "output_type": "execute_result"
    }
   ],
   "source": [
    "y_train.shape"
   ]
  },
  {
   "cell_type": "code",
   "execution_count": 15,
   "metadata": {
    "execution": {
     "iopub.execute_input": "2020-08-30T18:47:59.373339Z",
     "iopub.status.busy": "2020-08-30T18:47:59.372100Z",
     "iopub.status.idle": "2020-08-30T18:47:59.377291Z",
     "shell.execute_reply": "2020-08-30T18:47:59.376531Z"
    },
    "papermill": {
     "duration": 0.026215,
     "end_time": "2020-08-30T18:47:59.377514",
     "exception": false,
     "start_time": "2020-08-30T18:47:59.351299",
     "status": "completed"
    },
    "tags": []
   },
   "outputs": [
    {
     "data": {
      "text/plain": [
       "(412,)"
      ]
     },
     "execution_count": 15,
     "metadata": {},
     "output_type": "execute_result"
    }
   ],
   "source": [
    "y_test.shape"
   ]
  },
  {
   "cell_type": "code",
   "execution_count": 16,
   "metadata": {
    "execution": {
     "iopub.execute_input": "2020-08-30T18:47:59.421366Z",
     "iopub.status.busy": "2020-08-30T18:47:59.420204Z",
     "iopub.status.idle": "2020-08-30T18:47:59.717607Z",
     "shell.execute_reply": "2020-08-30T18:47:59.716674Z"
    },
    "papermill": {
     "duration": 0.323785,
     "end_time": "2020-08-30T18:47:59.717804",
     "exception": false,
     "start_time": "2020-08-30T18:47:59.394019",
     "status": "completed"
    },
    "tags": []
   },
   "outputs": [
    {
     "name": "stdout",
     "output_type": "stream",
     "text": [
      "Model: \"sequential\"\n",
      "_________________________________________________________________\n",
      "Layer (type)                 Output Shape              Param #   \n",
      "=================================================================\n",
      "dropout (Dropout)            (None, 4)                 0         \n",
      "_________________________________________________________________\n",
      "dense (Dense)                (None, 100)               500       \n",
      "_________________________________________________________________\n",
      "dense_1 (Dense)              (None, 50)                5050      \n",
      "_________________________________________________________________\n",
      "dense_2 (Dense)              (None, 1)                 51        \n",
      "=================================================================\n",
      "Total params: 5,601\n",
      "Trainable params: 5,601\n",
      "Non-trainable params: 0\n",
      "_________________________________________________________________\n"
     ]
    }
   ],
   "source": [
    "#Create a Sequential model\n",
    "from keras.layers import Dropout\n",
    "model = tf.keras.Sequential()\n",
    "model.add(Dropout(0.2, input_shape=(4,)))\n",
    "model.add(tf.keras.layers.Dense(100, activation=tf.nn.relu))\n",
    "model.add(tf.keras.layers.Dense(50, activation=tf.nn.relu))\n",
    "\n",
    "#Output Layer\n",
    "model.add(tf.keras.layers.Dense(1, activation=tf.nn.sigmoid))\n",
    "\n",
    "#Create a Keras version Optimiser\n",
    "optimizer = tf.keras.optimizers.Adam()\n",
    "\n",
    "#Compile and print the summary of model\n",
    "model.compile(loss='binary_crossentropy',\n",
    "              optimizer=optimizer,\n",
    "              metrics =['accuracy'])\n",
    "\n",
    "# Model summary can be created by calling the summary() function on the model that returns a string that in turn can be printed.\n",
    "model.summary()"
   ]
  },
  {
   "cell_type": "code",
   "execution_count": 17,
   "metadata": {
    "execution": {
     "iopub.execute_input": "2020-08-30T18:47:59.756855Z",
     "iopub.status.busy": "2020-08-30T18:47:59.755836Z",
     "iopub.status.idle": "2020-08-30T18:48:00.420778Z",
     "shell.execute_reply": "2020-08-30T18:48:00.419895Z"
    },
    "papermill": {
     "duration": 0.687257,
     "end_time": "2020-08-30T18:48:00.420942",
     "exception": false,
     "start_time": "2020-08-30T18:47:59.733685",
     "status": "completed"
    },
    "tags": []
   },
   "outputs": [
    {
     "data": {
      "image/png": "[encoded data removed]",
      "text/plain": [
       "<IPython.core.display.Image object>"
      ]
     },
     "execution_count": 17,
     "metadata": {},
     "output_type": "execute_result"
    }
   ],
   "source": [
    "#Plot model summary\n",
    "\n",
    "tf.keras.utils.plot_model(model, to_file='model_plot.png', show_shapes=True, show_layer_names=True)"
   ]
  },
  {
   "cell_type": "code",
   "execution_count": 18,
   "metadata": {
    "execution": {
     "iopub.execute_input": "2020-08-30T18:48:00.461895Z",
     "iopub.status.busy": "2020-08-30T18:48:00.461099Z",
     "iopub.status.idle": "2020-08-30T18:48:03.787644Z",
     "shell.execute_reply": "2020-08-30T18:48:03.786758Z"
    },
    "papermill": {
     "duration": 3.350134,
     "end_time": "2020-08-30T18:48:03.787795",
     "exception": false,
     "start_time": "2020-08-30T18:48:00.437661",
     "status": "completed"
    },
    "tags": []
   },
   "outputs": [
    {
     "name": "stdout",
     "output_type": "stream",
     "text": [
      "Epoch 1/50\n",
      "30/30 [==============================] - 0s 1ms/step - loss: 0.5268 - accuracy: 0.7156\n",
      "Epoch 2/50\n",
      "30/30 [==============================] - 0s 1ms/step - loss: 0.3144 - accuracy: 0.8667\n",
      "Epoch 3/50\n",
      "30/30 [==============================] - 0s 1ms/step - loss: 0.2773 - accuracy: 0.8708\n",
      "Epoch 4/50\n",
      "30/30 [==============================] - 0s 1ms/step - loss: 0.2783 - accuracy: 0.8615\n",
      "Epoch 5/50\n",
      "30/30 [==============================] - 0s 1ms/step - loss: 0.2195 - accuracy: 0.9187\n",
      "Epoch 6/50\n",
      "30/30 [==============================] - 0s 1ms/step - loss: 0.2114 - accuracy: 0.9187\n",
      "Epoch 7/50\n",
      "30/30 [==============================] - 0s 1ms/step - loss: 0.2127 - accuracy: 0.9187\n",
      "Epoch 8/50\n",
      "30/30 [==============================] - 0s 1ms/step - loss: 0.2218 - accuracy: 0.9031\n",
      "Epoch 9/50\n",
      "30/30 [==============================] - 0s 1ms/step - loss: 0.2235 - accuracy: 0.9010\n",
      "Epoch 10/50\n",
      "30/30 [==============================] - 0s 1ms/step - loss: 0.2027 - accuracy: 0.9198\n",
      "Epoch 11/50\n",
      "30/30 [==============================] - 0s 2ms/step - loss: 0.2140 - accuracy: 0.9000\n",
      "Epoch 12/50\n",
      "30/30 [==============================] - 0s 1ms/step - loss: 0.1912 - accuracy: 0.9125\n",
      "Epoch 13/50\n",
      "30/30 [==============================] - 0s 1ms/step - loss: 0.2299 - accuracy: 0.9031\n",
      "Epoch 14/50\n",
      "30/30 [==============================] - 0s 1ms/step - loss: 0.2087 - accuracy: 0.9104\n",
      "Epoch 15/50\n",
      "30/30 [==============================] - 0s 1ms/step - loss: 0.2164 - accuracy: 0.9062\n",
      "Epoch 16/50\n",
      "30/30 [==============================] - 0s 1ms/step - loss: 0.1797 - accuracy: 0.9219\n",
      "Epoch 17/50\n",
      "30/30 [==============================] - 0s 1ms/step - loss: 0.2069 - accuracy: 0.9156\n",
      "Epoch 18/50\n",
      "30/30 [==============================] - 0s 1ms/step - loss: 0.1817 - accuracy: 0.9302\n",
      "Epoch 19/50\n",
      "30/30 [==============================] - 0s 1ms/step - loss: 0.2011 - accuracy: 0.9156\n",
      "Epoch 20/50\n",
      "30/30 [==============================] - 0s 1ms/step - loss: 0.1804 - accuracy: 0.9240\n",
      "Epoch 21/50\n",
      "30/30 [==============================] - 0s 1ms/step - loss: 0.1997 - accuracy: 0.9167\n",
      "Epoch 22/50\n",
      "30/30 [==============================] - 0s 1ms/step - loss: 0.1568 - accuracy: 0.9302\n",
      "Epoch 23/50\n",
      "30/30 [==============================] - 0s 1ms/step - loss: 0.1843 - accuracy: 0.9219\n",
      "Epoch 24/50\n",
      "30/30 [==============================] - 0s 1ms/step - loss: 0.1827 - accuracy: 0.9240\n",
      "Epoch 25/50\n",
      "30/30 [==============================] - 0s 1ms/step - loss: 0.1847 - accuracy: 0.9156\n",
      "Epoch 26/50\n",
      "30/30 [==============================] - 0s 1ms/step - loss: 0.1966 - accuracy: 0.9208\n",
      "Epoch 27/50\n",
      "30/30 [==============================] - 0s 1ms/step - loss: 0.1649 - accuracy: 0.9302\n",
      "Epoch 28/50\n",
      "30/30 [==============================] - 0s 1ms/step - loss: 0.2114 - accuracy: 0.9042\n",
      "Epoch 29/50\n",
      "30/30 [==============================] - 0s 1ms/step - loss: 0.1653 - accuracy: 0.9312\n",
      "Epoch 30/50\n",
      "30/30 [==============================] - 0s 1ms/step - loss: 0.1857 - accuracy: 0.9229\n",
      "Epoch 31/50\n",
      "30/30 [==============================] - 0s 1ms/step - loss: 0.1702 - accuracy: 0.9271\n",
      "Epoch 32/50\n",
      "30/30 [==============================] - 0s 1ms/step - loss: 0.1604 - accuracy: 0.9208\n",
      "Epoch 33/50\n",
      "30/30 [==============================] - 0s 1ms/step - loss: 0.1865 - accuracy: 0.9135\n",
      "Epoch 34/50\n",
      "30/30 [==============================] - 0s 1ms/step - loss: 0.1532 - accuracy: 0.9344\n",
      "Epoch 35/50\n",
      "30/30 [==============================] - 0s 1ms/step - loss: 0.1770 - accuracy: 0.9250\n",
      "Epoch 36/50\n",
      "30/30 [==============================] - 0s 1ms/step - loss: 0.1810 - accuracy: 0.9208\n",
      "Epoch 37/50\n",
      "30/30 [==============================] - 0s 1ms/step - loss: 0.1656 - accuracy: 0.9250\n",
      "Epoch 38/50\n",
      "30/30 [==============================] - 0s 1ms/step - loss: 0.1667 - accuracy: 0.9260\n",
      "Epoch 39/50\n",
      "30/30 [==============================] - 0s 1ms/step - loss: 0.1850 - accuracy: 0.9187\n",
      "Epoch 40/50\n",
      "30/30 [==============================] - 0s 1ms/step - loss: 0.2054 - accuracy: 0.9083\n",
      "Epoch 41/50\n",
      "30/30 [==============================] - 0s 1ms/step - loss: 0.1713 - accuracy: 0.9177\n",
      "Epoch 42/50\n",
      "30/30 [==============================] - 0s 1ms/step - loss: 0.1670 - accuracy: 0.9344\n",
      "Epoch 43/50\n",
      "30/30 [==============================] - 0s 1ms/step - loss: 0.1798 - accuracy: 0.9094\n",
      "Epoch 44/50\n",
      "30/30 [==============================] - 0s 1ms/step - loss: 0.1588 - accuracy: 0.9250\n",
      "Epoch 45/50\n",
      "30/30 [==============================] - 0s 1ms/step - loss: 0.1867 - accuracy: 0.9260\n",
      "Epoch 46/50\n",
      "30/30 [==============================] - 0s 1ms/step - loss: 0.1624 - accuracy: 0.9354\n",
      "Epoch 47/50\n",
      "30/30 [==============================] - 0s 1ms/step - loss: 0.1319 - accuracy: 0.9500\n",
      "Epoch 48/50\n",
      "30/30 [==============================] - 0s 1ms/step - loss: 0.1529 - accuracy: 0.9229\n",
      "Epoch 49/50\n",
      "30/30 [==============================] - 0s 1ms/step - loss: 0.1458 - accuracy: 0.9333\n",
      "Epoch 50/50\n",
      "30/30 [==============================] - 0s 1ms/step - loss: 0.1646 - accuracy: 0.9333\n"
     ]
    }
   ],
   "source": [
    "fitted_model = model.fit(\n",
    "        X_train, y_train,\n",
    "        epochs=50  \n",
    "        )"
   ]
  },
  {
   "cell_type": "code",
   "execution_count": 19,
   "metadata": {
    "execution": {
     "iopub.execute_input": "2020-08-30T18:48:03.842749Z",
     "iopub.status.busy": "2020-08-30T18:48:03.841597Z",
     "iopub.status.idle": "2020-08-30T18:48:04.054009Z",
     "shell.execute_reply": "2020-08-30T18:48:04.052877Z"
    },
    "papermill": {
     "duration": 0.242885,
     "end_time": "2020-08-30T18:48:04.054177",
     "exception": false,
     "start_time": "2020-08-30T18:48:03.811292",
     "status": "completed"
    },
    "tags": []
   },
   "outputs": [
    {
     "name": "stdout",
     "output_type": "stream",
     "text": [
      "\n",
      "Loss, accuracy on test data: \n",
      "0.0428 99.27%\n"
     ]
    }
   ],
   "source": [
    "eval = model.evaluate(X_test, y_test, verbose=0) \n",
    "print(\"\\nLoss, accuracy on test data: \")\n",
    "print(\"%0.4f %0.2f%%\" % (eval[0],eval[1]*100))"
   ]
  },
  {
   "cell_type": "markdown",
   "metadata": {
    "papermill": {
     "duration": 0.022686,
     "end_time": "2020-08-30T18:48:04.099858",
     "exception": false,
     "start_time": "2020-08-30T18:48:04.077172",
     "status": "completed"
    },
    "tags": []
   },
   "source": [
    "This concludes my code on bank note prediction. As can be seen, we have got an accuracy of 100%."
   ]
  },
  {
   "cell_type": "code",
   "execution_count": null,
   "metadata": {
    "papermill": {
     "duration": 0.022301,
     "end_time": "2020-08-30T18:48:04.144673",
     "exception": false,
     "start_time": "2020-08-30T18:48:04.122372",
     "status": "completed"
    },
    "tags": []
   },
   "outputs": [],
   "source": []
  }
 ],
 "metadata": {
  "kernelspec": {
   "display_name": "Python 3 (ipykernel)",
   "language": "python",
   "name": "python3"
  },
  "language_info": {
   "codemirror_mode": {
    "name": "ipython",
    "version": 3
   },
   "file_extension": ".py",
   "mimetype": "text/x-python",
   "name": "python",
   "nbconvert_exporter": "python",
   "pygments_lexer": "ipython3",
   "version": "3.9.12"
  },
  "papermill": {
   "duration": 22.953473,
   "end_time": "2020-08-30T18:48:04.276044",
   "environment_variables": {},
   "exception": null,
   "input_path": "__notebook__.ipynb",
   "output_path": "__notebook__.ipynb",
   "parameters": {},
   "start_time": "2020-08-30T18:47:41.322571",
   "version": "2.1.0"
  }
 },
 "nbformat": 4,
 "nbformat_minor": 4
}
