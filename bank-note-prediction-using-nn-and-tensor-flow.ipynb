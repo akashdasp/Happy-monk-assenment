{
 "cells": [
  {
   "cell_type": "code",
   "execution_count": 1,
   "metadata": {},
   "outputs": [],
   "source": [
    "import numpy as np\n",
    "import pandas as pd\n",
    "from sklearn.model_selection import train_test_split, KFold, cross_val_score\n",
    "from sklearn.preprocessing import StandardScaler\n",
    "from sklearn.metrics import classification_report, confusion_matrix, accuracy_score\n",
    "from sklearn.model_selection import cross_val_score"
   ]
  },
  {
   "cell_type": "code",
   "execution_count": 2,
   "metadata": {
    "_cell_guid": "79c7e3d0-c299-4dcb-8224-4455121ee9b0",
    "_uuid": "d629ff2d2480ee46fbb7e2d37f6b5fab8052498a",
    "execution": {
     "iopub.execute_input": "2020-08-30T18:47:47.024104Z",
     "iopub.status.busy": "2020-08-30T18:47:47.022928Z",
     "iopub.status.idle": "2020-08-30T18:47:47.039886Z",
     "shell.execute_reply": "2020-08-30T18:47:47.038991Z"
    },
    "papermill": {
     "duration": 0.038339,
     "end_time": "2020-08-30T18:47:47.040048",
     "exception": false,
     "start_time": "2020-08-30T18:47:47.001709",
     "status": "completed"
    },
    "tags": []
   },
   "outputs": [],
   "source": [
    "bank_note_data=pd.read_csv('archive/BankNote_Authentication.csv')"
   ]
  },
  {
   "cell_type": "code",
   "execution_count": 3,
   "metadata": {
    "execution": {
     "iopub.execute_input": "2020-08-30T18:47:47.073964Z",
     "iopub.status.busy": "2020-08-30T18:47:47.073168Z",
     "iopub.status.idle": "2020-08-30T18:47:55.911690Z",
     "shell.execute_reply": "2020-08-30T18:47:55.912826Z"
    },
    "papermill": {
     "duration": 8.860845,
     "end_time": "2020-08-30T18:47:55.913029",
     "exception": false,
     "start_time": "2020-08-30T18:47:47.052184",
     "status": "completed"
    },
    "tags": []
   },
   "outputs": [
    {
     "name": "stdout",
     "output_type": "stream",
     "text": [
      "2.12.0\n"
     ]
    }
   ],
   "source": [
    "import random\n",
    "import pathlib, os\n",
    "import matplotlib.pyplot as plt\n",
    "import seaborn as sns\n",
    "\n",
    "import tensorflow as tf\n",
    "print(tf.__version__)"
   ]
  },
  {
   "cell_type": "code",
   "execution_count": 4,
   "metadata": {
    "execution": {
     "iopub.execute_input": "2020-08-30T18:47:55.952723Z",
     "iopub.status.busy": "2020-08-30T18:47:55.950708Z",
     "iopub.status.idle": "2020-08-30T18:47:55.964118Z",
     "shell.execute_reply": "2020-08-30T18:47:55.964909Z"
    },
    "papermill": {
     "duration": 0.040528,
     "end_time": "2020-08-30T18:47:55.965073",
     "exception": false,
     "start_time": "2020-08-30T18:47:55.924545",
     "status": "completed"
    },
    "tags": []
   },
   "outputs": [
    {
     "data": {
      "text/html": [
       "<div>\n",
       "<style scoped>\n",
       "    .dataframe tbody tr th:only-of-type {\n",
       "        vertical-align: middle;\n",
       "    }\n",
       "\n",
       "    .dataframe tbody tr th {\n",
       "        vertical-align: top;\n",
       "    }\n",
       "\n",
       "    .dataframe thead th {\n",
       "        text-align: right;\n",
       "    }\n",
       "</style>\n",
       "<table border=\"1\" class=\"dataframe\">\n",
       "  <thead>\n",
       "    <tr style=\"text-align: right;\">\n",
       "      <th></th>\n",
       "      <th>variance</th>\n",
       "      <th>skewness</th>\n",
       "      <th>curtosis</th>\n",
       "      <th>entropy</th>\n",
       "      <th>class</th>\n",
       "    </tr>\n",
       "  </thead>\n",
       "  <tbody>\n",
       "    <tr>\n",
       "      <th>0</th>\n",
       "      <td>3.62160</td>\n",
       "      <td>8.6661</td>\n",
       "      <td>-2.8073</td>\n",
       "      <td>-0.44699</td>\n",
       "      <td>0</td>\n",
       "    </tr>\n",
       "    <tr>\n",
       "      <th>1</th>\n",
       "      <td>4.54590</td>\n",
       "      <td>8.1674</td>\n",
       "      <td>-2.4586</td>\n",
       "      <td>-1.46210</td>\n",
       "      <td>0</td>\n",
       "    </tr>\n",
       "    <tr>\n",
       "      <th>2</th>\n",
       "      <td>3.86600</td>\n",
       "      <td>-2.6383</td>\n",
       "      <td>1.9242</td>\n",
       "      <td>0.10645</td>\n",
       "      <td>0</td>\n",
       "    </tr>\n",
       "    <tr>\n",
       "      <th>3</th>\n",
       "      <td>3.45660</td>\n",
       "      <td>9.5228</td>\n",
       "      <td>-4.0112</td>\n",
       "      <td>-3.59440</td>\n",
       "      <td>0</td>\n",
       "    </tr>\n",
       "    <tr>\n",
       "      <th>4</th>\n",
       "      <td>0.32924</td>\n",
       "      <td>-4.4552</td>\n",
       "      <td>4.5718</td>\n",
       "      <td>-0.98880</td>\n",
       "      <td>0</td>\n",
       "    </tr>\n",
       "  </tbody>\n",
       "</table>\n",
       "</div>"
      ],
      "text/plain": [
       "   variance  skewness  curtosis  entropy  class\n",
       "0   3.62160    8.6661   -2.8073 -0.44699      0\n",
       "1   4.54590    8.1674   -2.4586 -1.46210      0\n",
       "2   3.86600   -2.6383    1.9242  0.10645      0\n",
       "3   3.45660    9.5228   -4.0112 -3.59440      0\n",
       "4   0.32924   -4.4552    4.5718 -0.98880      0"
      ]
     },
     "execution_count": 4,
     "metadata": {},
     "output_type": "execute_result"
    }
   ],
   "source": [
    "bank_note_data.head()"
   ]
  },
  {
   "cell_type": "code",
   "execution_count": 5,
   "metadata": {
    "execution": {
     "iopub.execute_input": "2020-08-30T18:47:56.016022Z",
     "iopub.status.busy": "2020-08-30T18:47:55.995511Z",
     "iopub.status.idle": "2020-08-30T18:47:56.021225Z",
     "shell.execute_reply": "2020-08-30T18:47:56.019945Z"
    },
    "papermill": {
     "duration": 0.044296,
     "end_time": "2020-08-30T18:47:56.021516",
     "exception": false,
     "start_time": "2020-08-30T18:47:55.977220",
     "status": "completed"
    },
    "tags": []
   },
   "outputs": [
    {
     "name": "stdout",
     "output_type": "stream",
     "text": [
      "<class 'pandas.core.frame.DataFrame'>\n",
      "RangeIndex: 1372 entries, 0 to 1371\n",
      "Data columns (total 5 columns):\n",
      " #   Column    Non-Null Count  Dtype  \n",
      "---  ------    --------------  -----  \n",
      " 0   variance  1372 non-null   float64\n",
      " 1   skewness  1372 non-null   float64\n",
      " 2   curtosis  1372 non-null   float64\n",
      " 3   entropy   1372 non-null   float64\n",
      " 4   class     1372 non-null   int64  \n",
      "dtypes: float64(4), int64(1)\n",
      "memory usage: 53.7 KB\n"
     ]
    }
   ],
   "source": [
    "bank_note_data.info()"
   ]
  },
  {
   "cell_type": "markdown",
   "metadata": {
    "papermill": {
     "duration": 0.012385,
     "end_time": "2020-08-30T18:47:56.048129",
     "exception": false,
     "start_time": "2020-08-30T18:47:56.035744",
     "status": "completed"
    },
    "tags": []
   },
   "source": [
    "The above concludes that we have 1372 rows and all are not null."
   ]
  },
  {
   "cell_type": "code",
   "execution_count": 6,
   "metadata": {
    "execution": {
     "iopub.execute_input": "2020-08-30T18:47:56.085930Z",
     "iopub.status.busy": "2020-08-30T18:47:56.085119Z",
     "iopub.status.idle": "2020-08-30T18:47:56.113713Z",
     "shell.execute_reply": "2020-08-30T18:47:56.112639Z"
    },
    "papermill": {
     "duration": 0.053097,
     "end_time": "2020-08-30T18:47:56.113868",
     "exception": false,
     "start_time": "2020-08-30T18:47:56.060771",
     "status": "completed"
    },
    "tags": []
   },
   "outputs": [
    {
     "data": {
      "text/html": [
       "<div>\n",
       "<style scoped>\n",
       "    .dataframe tbody tr th:only-of-type {\n",
       "        vertical-align: middle;\n",
       "    }\n",
       "\n",
       "    .dataframe tbody tr th {\n",
       "        vertical-align: top;\n",
       "    }\n",
       "\n",
       "    .dataframe thead th {\n",
       "        text-align: right;\n",
       "    }\n",
       "</style>\n",
       "<table border=\"1\" class=\"dataframe\">\n",
       "  <thead>\n",
       "    <tr style=\"text-align: right;\">\n",
       "      <th></th>\n",
       "      <th>variance</th>\n",
       "      <th>skewness</th>\n",
       "      <th>curtosis</th>\n",
       "      <th>entropy</th>\n",
       "      <th>class</th>\n",
       "    </tr>\n",
       "  </thead>\n",
       "  <tbody>\n",
       "    <tr>\n",
       "      <th>count</th>\n",
       "      <td>1372.000000</td>\n",
       "      <td>1372.000000</td>\n",
       "      <td>1372.000000</td>\n",
       "      <td>1372.000000</td>\n",
       "      <td>1372.000000</td>\n",
       "    </tr>\n",
       "    <tr>\n",
       "      <th>mean</th>\n",
       "      <td>0.433735</td>\n",
       "      <td>1.922353</td>\n",
       "      <td>1.397627</td>\n",
       "      <td>-1.191657</td>\n",
       "      <td>0.444606</td>\n",
       "    </tr>\n",
       "    <tr>\n",
       "      <th>std</th>\n",
       "      <td>2.842763</td>\n",
       "      <td>5.869047</td>\n",
       "      <td>4.310030</td>\n",
       "      <td>2.101013</td>\n",
       "      <td>0.497103</td>\n",
       "    </tr>\n",
       "    <tr>\n",
       "      <th>min</th>\n",
       "      <td>-7.042100</td>\n",
       "      <td>-13.773100</td>\n",
       "      <td>-5.286100</td>\n",
       "      <td>-8.548200</td>\n",
       "      <td>0.000000</td>\n",
       "    </tr>\n",
       "    <tr>\n",
       "      <th>25%</th>\n",
       "      <td>-1.773000</td>\n",
       "      <td>-1.708200</td>\n",
       "      <td>-1.574975</td>\n",
       "      <td>-2.413450</td>\n",
       "      <td>0.000000</td>\n",
       "    </tr>\n",
       "    <tr>\n",
       "      <th>50%</th>\n",
       "      <td>0.496180</td>\n",
       "      <td>2.319650</td>\n",
       "      <td>0.616630</td>\n",
       "      <td>-0.586650</td>\n",
       "      <td>0.000000</td>\n",
       "    </tr>\n",
       "    <tr>\n",
       "      <th>75%</th>\n",
       "      <td>2.821475</td>\n",
       "      <td>6.814625</td>\n",
       "      <td>3.179250</td>\n",
       "      <td>0.394810</td>\n",
       "      <td>1.000000</td>\n",
       "    </tr>\n",
       "    <tr>\n",
       "      <th>max</th>\n",
       "      <td>6.824800</td>\n",
       "      <td>12.951600</td>\n",
       "      <td>17.927400</td>\n",
       "      <td>2.449500</td>\n",
       "      <td>1.000000</td>\n",
       "    </tr>\n",
       "  </tbody>\n",
       "</table>\n",
       "</div>"
      ],
      "text/plain": [
       "          variance     skewness     curtosis      entropy        class\n",
       "count  1372.000000  1372.000000  1372.000000  1372.000000  1372.000000\n",
       "mean      0.433735     1.922353     1.397627    -1.191657     0.444606\n",
       "std       2.842763     5.869047     4.310030     2.101013     0.497103\n",
       "min      -7.042100   -13.773100    -5.286100    -8.548200     0.000000\n",
       "25%      -1.773000    -1.708200    -1.574975    -2.413450     0.000000\n",
       "50%       0.496180     2.319650     0.616630    -0.586650     0.000000\n",
       "75%       2.821475     6.814625     3.179250     0.394810     1.000000\n",
       "max       6.824800    12.951600    17.927400     2.449500     1.000000"
      ]
     },
     "execution_count": 6,
     "metadata": {},
     "output_type": "execute_result"
    }
   ],
   "source": [
    "bank_note_data.describe()"
   ]
  },
  {
   "cell_type": "markdown",
   "metadata": {
    "papermill": {
     "duration": 0.012509,
     "end_time": "2020-08-30T18:47:56.139424",
     "exception": false,
     "start_time": "2020-08-30T18:47:56.126915",
     "status": "completed"
    },
    "tags": []
   },
   "source": [
    "The data is not on the same scale as can be concluded from above."
   ]
  },
  {
   "cell_type": "code",
   "execution_count": 7,
   "metadata": {},
   "outputs": [
    {
     "data": {
      "image/png": "[encoded data removed]",
      "text/plain": [
       "<Figure size 432x288 with 5 Axes>"
      ]
     },
     "metadata": {
      "needs_background": "light"
     },
     "output_type": "display_data"
    }
   ],
   "source": [
    "bank_note_data.plot(kind='box', subplots=True,  sharex=False, sharey=False)\n",
    "plt.show()"
   ]
  },
  {
   "cell_type": "code",
   "execution_count": null,
   "metadata": {},
   "outputs": [],
   "source": []
  },
  {
   "cell_type": "code",
   "execution_count": 8,
   "metadata": {
    "execution": {
     "iopub.execute_input": "2020-08-30T18:47:56.171593Z",
     "iopub.status.busy": "2020-08-30T18:47:56.170753Z",
     "iopub.status.idle": "2020-08-30T18:47:57.578284Z",
     "shell.execute_reply": "2020-08-30T18:47:57.577546Z"
    },
    "papermill": {
     "duration": 1.426166,
     "end_time": "2020-08-30T18:47:57.578424",
     "exception": false,
     "start_time": "2020-08-30T18:47:56.152258",
     "status": "completed"
    },
    "tags": []
   },
   "outputs": [
    {
     "data": {
      "image/png": "[encoded data removed]",
      "text/plain": [
       "<Figure size 1440x720 with 8 Axes>"
      ]
     },
     "metadata": {
      "needs_background": "light"
     },
     "output_type": "display_data"
    }
   ],
   "source": [
    "bank_note_data.hist(figsize=(20,10), grid =False, layout = (2,4), bins=30,)\n",
    "plt.show()"
   ]
  },
  {
   "cell_type": "code",
   "execution_count": 9,
   "metadata": {},
   "outputs": [
    {
     "data": {
      "text/html": [
       "<div>\n",
       "<style scoped>\n",
       "    .dataframe tbody tr th:only-of-type {\n",
       "        vertical-align: middle;\n",
       "    }\n",
       "\n",
       "    .dataframe tbody tr th {\n",
       "        vertical-align: top;\n",
       "    }\n",
       "\n",
       "    .dataframe thead th {\n",
       "        text-align: right;\n",
       "    }\n",
       "</style>\n",
       "<table border=\"1\" class=\"dataframe\">\n",
       "  <thead>\n",
       "    <tr style=\"text-align: right;\">\n",
       "      <th></th>\n",
       "      <th>variance</th>\n",
       "      <th>skewness</th>\n",
       "      <th>curtosis</th>\n",
       "      <th>entropy</th>\n",
       "      <th>class</th>\n",
       "    </tr>\n",
       "  </thead>\n",
       "  <tbody>\n",
       "    <tr>\n",
       "      <th>0</th>\n",
       "      <td>3.62160</td>\n",
       "      <td>8.66610</td>\n",
       "      <td>-2.8073</td>\n",
       "      <td>-0.44699</td>\n",
       "      <td>0</td>\n",
       "    </tr>\n",
       "    <tr>\n",
       "      <th>1</th>\n",
       "      <td>4.54590</td>\n",
       "      <td>8.16740</td>\n",
       "      <td>-2.4586</td>\n",
       "      <td>-1.46210</td>\n",
       "      <td>0</td>\n",
       "    </tr>\n",
       "    <tr>\n",
       "      <th>2</th>\n",
       "      <td>3.86600</td>\n",
       "      <td>-2.63830</td>\n",
       "      <td>1.9242</td>\n",
       "      <td>0.10645</td>\n",
       "      <td>0</td>\n",
       "    </tr>\n",
       "    <tr>\n",
       "      <th>3</th>\n",
       "      <td>3.45660</td>\n",
       "      <td>9.52280</td>\n",
       "      <td>-4.0112</td>\n",
       "      <td>-3.59440</td>\n",
       "      <td>0</td>\n",
       "    </tr>\n",
       "    <tr>\n",
       "      <th>4</th>\n",
       "      <td>0.32924</td>\n",
       "      <td>-4.45520</td>\n",
       "      <td>4.5718</td>\n",
       "      <td>-0.98880</td>\n",
       "      <td>0</td>\n",
       "    </tr>\n",
       "    <tr>\n",
       "      <th>...</th>\n",
       "      <td>...</td>\n",
       "      <td>...</td>\n",
       "      <td>...</td>\n",
       "      <td>...</td>\n",
       "      <td>...</td>\n",
       "    </tr>\n",
       "    <tr>\n",
       "      <th>1367</th>\n",
       "      <td>0.40614</td>\n",
       "      <td>1.34920</td>\n",
       "      <td>-1.4501</td>\n",
       "      <td>-0.55949</td>\n",
       "      <td>1</td>\n",
       "    </tr>\n",
       "    <tr>\n",
       "      <th>1368</th>\n",
       "      <td>-1.38870</td>\n",
       "      <td>-4.87730</td>\n",
       "      <td>6.4774</td>\n",
       "      <td>0.34179</td>\n",
       "      <td>1</td>\n",
       "    </tr>\n",
       "    <tr>\n",
       "      <th>1369</th>\n",
       "      <td>-3.75030</td>\n",
       "      <td>-13.45860</td>\n",
       "      <td>17.5932</td>\n",
       "      <td>-2.77710</td>\n",
       "      <td>1</td>\n",
       "    </tr>\n",
       "    <tr>\n",
       "      <th>1370</th>\n",
       "      <td>-3.56370</td>\n",
       "      <td>-8.38270</td>\n",
       "      <td>12.3930</td>\n",
       "      <td>-1.28230</td>\n",
       "      <td>1</td>\n",
       "    </tr>\n",
       "    <tr>\n",
       "      <th>1371</th>\n",
       "      <td>-2.54190</td>\n",
       "      <td>-0.65804</td>\n",
       "      <td>2.6842</td>\n",
       "      <td>1.19520</td>\n",
       "      <td>1</td>\n",
       "    </tr>\n",
       "  </tbody>\n",
       "</table>\n",
       "<p>1372 rows × 5 columns</p>\n",
       "</div>"
      ],
      "text/plain": [
       "      variance  skewness  curtosis  entropy  class\n",
       "0      3.62160   8.66610   -2.8073 -0.44699      0\n",
       "1      4.54590   8.16740   -2.4586 -1.46210      0\n",
       "2      3.86600  -2.63830    1.9242  0.10645      0\n",
       "3      3.45660   9.52280   -4.0112 -3.59440      0\n",
       "4      0.32924  -4.45520    4.5718 -0.98880      0\n",
       "...        ...       ...       ...      ...    ...\n",
       "1367   0.40614   1.34920   -1.4501 -0.55949      1\n",
       "1368  -1.38870  -4.87730    6.4774  0.34179      1\n",
       "1369  -3.75030 -13.45860   17.5932 -2.77710      1\n",
       "1370  -3.56370  -8.38270   12.3930 -1.28230      1\n",
       "1371  -2.54190  -0.65804    2.6842  1.19520      1\n",
       "\n",
       "[1372 rows x 5 columns]"
      ]
     },
     "execution_count": 9,
     "metadata": {},
     "output_type": "execute_result"
    }
   ],
   "source": [
    "bank_note_data"
   ]
  },
  {
   "cell_type": "code",
   "execution_count": 10,
   "metadata": {
    "execution": {
     "iopub.execute_input": "2020-08-30T18:47:57.614567Z",
     "iopub.status.busy": "2020-08-30T18:47:57.613382Z",
     "iopub.status.idle": "2020-08-30T18:47:58.909116Z",
     "shell.execute_reply": "2020-08-30T18:47:58.909733Z"
    },
    "papermill": {
     "duration": 1.318198,
     "end_time": "2020-08-30T18:47:58.909890",
     "exception": false,
     "start_time": "2020-08-30T18:47:57.591692",
     "status": "completed"
    },
    "tags": []
   },
   "outputs": [
    {
     "data": {
      "image/png": "[encoded data removed]",
      "text/plain": [
       "<Figure size 1440x504 with 1 Axes>"
      ]
     },
     "metadata": {
      "needs_background": "light"
     },
     "output_type": "display_data"
    }
   ],
   "source": [
    "plt.figure(figsize = (20,7))\n",
    "sns.swarmplot(x = 'class', y = 'curtosis', data = bank_note_data, hue = 'class')\n",
    "sns.violinplot(x = 'class', y = 'curtosis', data = bank_note_data)\n",
    "plt.title('Class V/s curtosis')\n",
    "plt.show()"
   ]
  },
  {
   "cell_type": "code",
   "execution_count": 11,
   "metadata": {
    "execution": {
     "iopub.execute_input": "2020-08-30T18:47:58.948198Z",
     "iopub.status.busy": "2020-08-30T18:47:58.947340Z",
     "iopub.status.idle": "2020-08-30T18:47:59.035472Z",
     "shell.execute_reply": "2020-08-30T18:47:59.034605Z"
    },
    "papermill": {
     "duration": 0.110986,
     "end_time": "2020-08-30T18:47:59.035637",
     "exception": false,
     "start_time": "2020-08-30T18:47:58.924651",
     "status": "completed"
    },
    "tags": []
   },
   "outputs": [],
   "source": [
    "#Standardize rows into uniform scale.\n",
    "\n",
    "X= bank_note_data.drop(['class'], axis=1)\n",
    "y= bank_note_data['class']\n",
    "\n",
    "from sklearn.preprocessing import StandardScaler\n",
    "\n",
    "scaler = StandardScaler()\n",
    "scaler.fit(X)\n",
    "\n",
    "#Scale and centre the data\n",
    "\n",
    "bank_note_data_normalized = scaler.transform(X)\n",
    "\n",
    "#Create a pandas dataframe\n",
    "\n",
    "bank_note_data_normalized = pd.DataFrame(data = X, index= X.index, columns= X.columns)"
   ]
  },
  {
   "cell_type": "code",
   "execution_count": 12,
   "metadata": {},
   "outputs": [
    {
     "data": {
      "text/html": [
       "<div>\n",
       "<style scoped>\n",
       "    .dataframe tbody tr th:only-of-type {\n",
       "        vertical-align: middle;\n",
       "    }\n",
       "\n",
       "    .dataframe tbody tr th {\n",
       "        vertical-align: top;\n",
       "    }\n",
       "\n",
       "    .dataframe thead th {\n",
       "        text-align: right;\n",
       "    }\n",
       "</style>\n",
       "<table border=\"1\" class=\"dataframe\">\n",
       "  <thead>\n",
       "    <tr style=\"text-align: right;\">\n",
       "      <th></th>\n",
       "      <th>variance</th>\n",
       "      <th>skewness</th>\n",
       "      <th>curtosis</th>\n",
       "      <th>entropy</th>\n",
       "    </tr>\n",
       "  </thead>\n",
       "  <tbody>\n",
       "    <tr>\n",
       "      <th>0</th>\n",
       "      <td>3.62160</td>\n",
       "      <td>8.66610</td>\n",
       "      <td>-2.8073</td>\n",
       "      <td>-0.44699</td>\n",
       "    </tr>\n",
       "    <tr>\n",
       "      <th>1</th>\n",
       "      <td>4.54590</td>\n",
       "      <td>8.16740</td>\n",
       "      <td>-2.4586</td>\n",
       "      <td>-1.46210</td>\n",
       "    </tr>\n",
       "    <tr>\n",
       "      <th>2</th>\n",
       "      <td>3.86600</td>\n",
       "      <td>-2.63830</td>\n",
       "      <td>1.9242</td>\n",
       "      <td>0.10645</td>\n",
       "    </tr>\n",
       "    <tr>\n",
       "      <th>3</th>\n",
       "      <td>3.45660</td>\n",
       "      <td>9.52280</td>\n",
       "      <td>-4.0112</td>\n",
       "      <td>-3.59440</td>\n",
       "    </tr>\n",
       "    <tr>\n",
       "      <th>4</th>\n",
       "      <td>0.32924</td>\n",
       "      <td>-4.45520</td>\n",
       "      <td>4.5718</td>\n",
       "      <td>-0.98880</td>\n",
       "    </tr>\n",
       "    <tr>\n",
       "      <th>...</th>\n",
       "      <td>...</td>\n",
       "      <td>...</td>\n",
       "      <td>...</td>\n",
       "      <td>...</td>\n",
       "    </tr>\n",
       "    <tr>\n",
       "      <th>1367</th>\n",
       "      <td>0.40614</td>\n",
       "      <td>1.34920</td>\n",
       "      <td>-1.4501</td>\n",
       "      <td>-0.55949</td>\n",
       "    </tr>\n",
       "    <tr>\n",
       "      <th>1368</th>\n",
       "      <td>-1.38870</td>\n",
       "      <td>-4.87730</td>\n",
       "      <td>6.4774</td>\n",
       "      <td>0.34179</td>\n",
       "    </tr>\n",
       "    <tr>\n",
       "      <th>1369</th>\n",
       "      <td>-3.75030</td>\n",
       "      <td>-13.45860</td>\n",
       "      <td>17.5932</td>\n",
       "      <td>-2.77710</td>\n",
       "    </tr>\n",
       "    <tr>\n",
       "      <th>1370</th>\n",
       "      <td>-3.56370</td>\n",
       "      <td>-8.38270</td>\n",
       "      <td>12.3930</td>\n",
       "      <td>-1.28230</td>\n",
       "    </tr>\n",
       "    <tr>\n",
       "      <th>1371</th>\n",
       "      <td>-2.54190</td>\n",
       "      <td>-0.65804</td>\n",
       "      <td>2.6842</td>\n",
       "      <td>1.19520</td>\n",
       "    </tr>\n",
       "  </tbody>\n",
       "</table>\n",
       "<p>1372 rows × 4 columns</p>\n",
       "</div>"
      ],
      "text/plain": [
       "      variance  skewness  curtosis  entropy\n",
       "0      3.62160   8.66610   -2.8073 -0.44699\n",
       "1      4.54590   8.16740   -2.4586 -1.46210\n",
       "2      3.86600  -2.63830    1.9242  0.10645\n",
       "3      3.45660   9.52280   -4.0112 -3.59440\n",
       "4      0.32924  -4.45520    4.5718 -0.98880\n",
       "...        ...       ...       ...      ...\n",
       "1367   0.40614   1.34920   -1.4501 -0.55949\n",
       "1368  -1.38870  -4.87730    6.4774  0.34179\n",
       "1369  -3.75030 -13.45860   17.5932 -2.77710\n",
       "1370  -3.56370  -8.38270   12.3930 -1.28230\n",
       "1371  -2.54190  -0.65804    2.6842  1.19520\n",
       "\n",
       "[1372 rows x 4 columns]"
      ]
     },
     "execution_count": 12,
     "metadata": {},
     "output_type": "execute_result"
    }
   ],
   "source": [
    "bank_note_data_normalized"
   ]
  },
  {
   "cell_type": "code",
   "execution_count": 13,
   "metadata": {
    "execution": {
     "iopub.execute_input": "2020-08-30T18:47:59.078103Z",
     "iopub.status.busy": "2020-08-30T18:47:59.077313Z",
     "iopub.status.idle": "2020-08-30T18:47:59.099931Z",
     "shell.execute_reply": "2020-08-30T18:47:59.099248Z"
    },
    "papermill": {
     "duration": 0.048347,
     "end_time": "2020-08-30T18:47:59.100070",
     "exception": false,
     "start_time": "2020-08-30T18:47:59.051723",
     "status": "completed"
    },
    "tags": []
   },
   "outputs": [
    {
     "data": {
      "text/html": [
       "<div>\n",
       "<style scoped>\n",
       "    .dataframe tbody tr th:only-of-type {\n",
       "        vertical-align: middle;\n",
       "    }\n",
       "\n",
       "    .dataframe tbody tr th {\n",
       "        vertical-align: top;\n",
       "    }\n",
       "\n",
       "    .dataframe thead th {\n",
       "        text-align: right;\n",
       "    }\n",
       "</style>\n",
       "<table border=\"1\" class=\"dataframe\">\n",
       "  <thead>\n",
       "    <tr style=\"text-align: right;\">\n",
       "      <th></th>\n",
       "      <th>variance</th>\n",
       "      <th>skewness</th>\n",
       "      <th>curtosis</th>\n",
       "      <th>entropy</th>\n",
       "    </tr>\n",
       "  </thead>\n",
       "  <tbody>\n",
       "    <tr>\n",
       "      <th>count</th>\n",
       "      <td>1372.000000</td>\n",
       "      <td>1372.000000</td>\n",
       "      <td>1372.000000</td>\n",
       "      <td>1372.000000</td>\n",
       "    </tr>\n",
       "    <tr>\n",
       "      <th>mean</th>\n",
       "      <td>0.433735</td>\n",
       "      <td>1.922353</td>\n",
       "      <td>1.397627</td>\n",
       "      <td>-1.191657</td>\n",
       "    </tr>\n",
       "    <tr>\n",
       "      <th>std</th>\n",
       "      <td>2.842763</td>\n",
       "      <td>5.869047</td>\n",
       "      <td>4.310030</td>\n",
       "      <td>2.101013</td>\n",
       "    </tr>\n",
       "    <tr>\n",
       "      <th>min</th>\n",
       "      <td>-7.042100</td>\n",
       "      <td>-13.773100</td>\n",
       "      <td>-5.286100</td>\n",
       "      <td>-8.548200</td>\n",
       "    </tr>\n",
       "    <tr>\n",
       "      <th>25%</th>\n",
       "      <td>-1.773000</td>\n",
       "      <td>-1.708200</td>\n",
       "      <td>-1.574975</td>\n",
       "      <td>-2.413450</td>\n",
       "    </tr>\n",
       "    <tr>\n",
       "      <th>50%</th>\n",
       "      <td>0.496180</td>\n",
       "      <td>2.319650</td>\n",
       "      <td>0.616630</td>\n",
       "      <td>-0.586650</td>\n",
       "    </tr>\n",
       "    <tr>\n",
       "      <th>75%</th>\n",
       "      <td>2.821475</td>\n",
       "      <td>6.814625</td>\n",
       "      <td>3.179250</td>\n",
       "      <td>0.394810</td>\n",
       "    </tr>\n",
       "    <tr>\n",
       "      <th>max</th>\n",
       "      <td>6.824800</td>\n",
       "      <td>12.951600</td>\n",
       "      <td>17.927400</td>\n",
       "      <td>2.449500</td>\n",
       "    </tr>\n",
       "  </tbody>\n",
       "</table>\n",
       "</div>"
      ],
      "text/plain": [
       "          variance     skewness     curtosis      entropy\n",
       "count  1372.000000  1372.000000  1372.000000  1372.000000\n",
       "mean      0.433735     1.922353     1.397627    -1.191657\n",
       "std       2.842763     5.869047     4.310030     2.101013\n",
       "min      -7.042100   -13.773100    -5.286100    -8.548200\n",
       "25%      -1.773000    -1.708200    -1.574975    -2.413450\n",
       "50%       0.496180     2.319650     0.616630    -0.586650\n",
       "75%       2.821475     6.814625     3.179250     0.394810\n",
       "max       6.824800    12.951600    17.927400     2.449500"
      ]
     },
     "execution_count": 13,
     "metadata": {},
     "output_type": "execute_result"
    }
   ],
   "source": [
    "bank_note_data_normalized.describe()"
   ]
  },
  {
   "cell_type": "code",
   "execution_count": 14,
   "metadata": {
    "execution": {
     "iopub.execute_input": "2020-08-30T18:47:59.136464Z",
     "iopub.status.busy": "2020-08-30T18:47:59.135588Z",
     "iopub.status.idle": "2020-08-30T18:47:59.213693Z",
     "shell.execute_reply": "2020-08-30T18:47:59.212885Z"
    },
    "papermill": {
     "duration": 0.098888,
     "end_time": "2020-08-30T18:47:59.213832",
     "exception": false,
     "start_time": "2020-08-30T18:47:59.114944",
     "status": "completed"
    },
    "tags": []
   },
   "outputs": [],
   "source": [
    "from sklearn.model_selection import train_test_split\n",
    "X_train, X_test, y_train, y_test = train_test_split(X, y, test_size = 0.3, random_state = 0,stratify=bank_note_data['class'])"
   ]
  },
  {
   "cell_type": "code",
   "execution_count": 15,
   "metadata": {
    "execution": {
     "iopub.execute_input": "2020-08-30T18:47:59.251304Z",
     "iopub.status.busy": "2020-08-30T18:47:59.250182Z",
     "iopub.status.idle": "2020-08-30T18:47:59.255187Z",
     "shell.execute_reply": "2020-08-30T18:47:59.254435Z"
    },
    "papermill": {
     "duration": 0.026586,
     "end_time": "2020-08-30T18:47:59.255323",
     "exception": false,
     "start_time": "2020-08-30T18:47:59.228737",
     "status": "completed"
    },
    "tags": []
   },
   "outputs": [
    {
     "data": {
      "text/plain": [
       "(960, 4)"
      ]
     },
     "execution_count": 15,
     "metadata": {},
     "output_type": "execute_result"
    }
   ],
   "source": [
    "X_train.shape"
   ]
  },
  {
   "cell_type": "code",
   "execution_count": 16,
   "metadata": {
    "execution": {
     "iopub.execute_input": "2020-08-30T18:47:59.292058Z",
     "iopub.status.busy": "2020-08-30T18:47:59.290878Z",
     "iopub.status.idle": "2020-08-30T18:47:59.295907Z",
     "shell.execute_reply": "2020-08-30T18:47:59.295089Z"
    },
    "papermill": {
     "duration": 0.025584,
     "end_time": "2020-08-30T18:47:59.296033",
     "exception": false,
     "start_time": "2020-08-30T18:47:59.270449",
     "status": "completed"
    },
    "tags": []
   },
   "outputs": [
    {
     "data": {
      "text/plain": [
       "(412, 4)"
      ]
     },
     "execution_count": 16,
     "metadata": {},
     "output_type": "execute_result"
    }
   ],
   "source": [
    "X_test.shape"
   ]
  },
  {
   "cell_type": "code",
   "execution_count": 17,
   "metadata": {
    "execution": {
     "iopub.execute_input": "2020-08-30T18:47:59.332063Z",
     "iopub.status.busy": "2020-08-30T18:47:59.331191Z",
     "iopub.status.idle": "2020-08-30T18:47:59.334883Z",
     "shell.execute_reply": "2020-08-30T18:47:59.335450Z"
    },
    "papermill": {
     "duration": 0.024591,
     "end_time": "2020-08-30T18:47:59.335639",
     "exception": false,
     "start_time": "2020-08-30T18:47:59.311048",
     "status": "completed"
    },
    "tags": []
   },
   "outputs": [
    {
     "data": {
      "text/plain": [
       "(960,)"
      ]
     },
     "execution_count": 17,
     "metadata": {},
     "output_type": "execute_result"
    }
   ],
   "source": [
    "y_train.shape"
   ]
  },
  {
   "cell_type": "code",
   "execution_count": 18,
   "metadata": {
    "execution": {
     "iopub.execute_input": "2020-08-30T18:47:59.373339Z",
     "iopub.status.busy": "2020-08-30T18:47:59.372100Z",
     "iopub.status.idle": "2020-08-30T18:47:59.377291Z",
     "shell.execute_reply": "2020-08-30T18:47:59.376531Z"
    },
    "papermill": {
     "duration": 0.026215,
     "end_time": "2020-08-30T18:47:59.377514",
     "exception": false,
     "start_time": "2020-08-30T18:47:59.351299",
     "status": "completed"
    },
    "tags": []
   },
   "outputs": [
    {
     "data": {
      "text/plain": [
       "(412,)"
      ]
     },
     "execution_count": 18,
     "metadata": {},
     "output_type": "execute_result"
    }
   ],
   "source": [
    "y_test.shape"
   ]
  },
  {
   "cell_type": "code",
   "execution_count": 19,
   "metadata": {
    "execution": {
     "iopub.execute_input": "2020-08-30T18:47:59.421366Z",
     "iopub.status.busy": "2020-08-30T18:47:59.420204Z",
     "iopub.status.idle": "2020-08-30T18:47:59.717607Z",
     "shell.execute_reply": "2020-08-30T18:47:59.716674Z"
    },
    "papermill": {
     "duration": 0.323785,
     "end_time": "2020-08-30T18:47:59.717804",
     "exception": false,
     "start_time": "2020-08-30T18:47:59.394019",
     "status": "completed"
    },
    "tags": []
   },
   "outputs": [
    {
     "name": "stdout",
     "output_type": "stream",
     "text": [
      "Model: \"sequential\"\n",
      "_________________________________________________________________\n",
      " Layer (type)                Output Shape              Param #   \n",
      "=================================================================\n",
      " dropout (Dropout)           (None, 4)                 0         \n",
      "                                                                 \n",
      " dense (Dense)               (None, 100)               500       \n",
      "                                                                 \n",
      " dense_1 (Dense)             (None, 1)                 101       \n",
      "                                                                 \n",
      "=================================================================\n",
      "Total params: 601\n",
      "Trainable params: 601\n",
      "Non-trainable params: 0\n",
      "_________________________________________________________________\n"
     ]
    }
   ],
   "source": [
    "#Create a Sequential model\n",
    "from keras.layers import Dropout\n",
    "model = tf.keras.Sequential()\n",
    "model.add(Dropout(0.2, input_shape=(4,)))\n",
    "model.add(tf.keras.layers.Dense(100, activation=tf.nn.relu))\n",
    "#model.add(tf.keras.layers.Dense(50, activation=tf.nn.relu))\n",
    "\n",
    "#Output Layer\n",
    "model.add(tf.keras.layers.Dense(1, activation=tf.nn.sigmoid))\n",
    "\n",
    "#Create a Keras version Optimiser\n",
    "optimizer = tf.keras.optimizers.Adam()\n",
    "\n",
    "#Compile and print the summary of model\n",
    "model.compile(loss='binary_crossentropy',\n",
    "              optimizer=optimizer,\n",
    "              metrics =['accuracy'])\n",
    "\n",
    "# Model summary can be created by calling the summary() function on the model that returns a string that in turn can be printed.\n",
    "model.summary()"
   ]
  },
  {
   "cell_type": "code",
   "execution_count": 20,
   "metadata": {
    "execution": {
     "iopub.execute_input": "2020-08-30T18:47:59.756855Z",
     "iopub.status.busy": "2020-08-30T18:47:59.755836Z",
     "iopub.status.idle": "2020-08-30T18:48:00.420778Z",
     "shell.execute_reply": "2020-08-30T18:48:00.419895Z"
    },
    "papermill": {
     "duration": 0.687257,
     "end_time": "2020-08-30T18:48:00.420942",
     "exception": false,
     "start_time": "2020-08-30T18:47:59.733685",
     "status": "completed"
    },
    "tags": []
   },
   "outputs": [
    {
     "name": "stdout",
     "output_type": "stream",
     "text": [
      "You must install pydot (`pip install pydot`) and install graphviz (see instructions at https://graphviz.gitlab.io/download/) for plot_model to work.\n"
     ]
    }
   ],
   "source": [
    "#Plot model summary\n",
    "\n",
    "tf.keras.utils.plot_model(model, to_file='model_plot.png', show_shapes=True, show_layer_names=True)"
   ]
  },
  {
   "cell_type": "code",
   "execution_count": 35,
   "metadata": {
    "execution": {
     "iopub.execute_input": "2020-08-30T18:48:00.461895Z",
     "iopub.status.busy": "2020-08-30T18:48:00.461099Z",
     "iopub.status.idle": "2020-08-30T18:48:03.787644Z",
     "shell.execute_reply": "2020-08-30T18:48:03.786758Z"
    },
    "papermill": {
     "duration": 3.350134,
     "end_time": "2020-08-30T18:48:03.787795",
     "exception": false,
     "start_time": "2020-08-30T18:48:00.437661",
     "status": "completed"
    },
    "tags": []
   },
   "outputs": [
    {
     "name": "stdout",
     "output_type": "stream",
     "text": [
      "Epoch 1/50\n",
      "35/35 [==============================] - 0s 7ms/step - loss: 0.1714 - accuracy: 0.9281 - val_loss: 0.0724 - val_accuracy: 0.9854\n",
      "Epoch 2/50\n",
      "35/35 [==============================] - 0s 4ms/step - loss: 0.1689 - accuracy: 0.9281 - val_loss: 0.0596 - val_accuracy: 0.9964\n",
      "Epoch 3/50\n",
      "35/35 [==============================] - 0s 4ms/step - loss: 0.1883 - accuracy: 0.9171 - val_loss: 0.0705 - val_accuracy: 0.9781\n",
      "Epoch 4/50\n",
      "35/35 [==============================] - 0s 4ms/step - loss: 0.1852 - accuracy: 0.9281 - val_loss: 0.0655 - val_accuracy: 0.9891\n",
      "Epoch 5/50\n",
      "35/35 [==============================] - 0s 5ms/step - loss: 0.1613 - accuracy: 0.9326 - val_loss: 0.0641 - val_accuracy: 0.9781\n",
      "Epoch 6/50\n",
      "35/35 [==============================] - 0s 6ms/step - loss: 0.2017 - accuracy: 0.9217 - val_loss: 0.0734 - val_accuracy: 0.9781\n",
      "Epoch 7/50\n",
      "35/35 [==============================] - 0s 5ms/step - loss: 0.1820 - accuracy: 0.9162 - val_loss: 0.0838 - val_accuracy: 0.9781\n",
      "Epoch 8/50\n",
      "35/35 [==============================] - 0s 6ms/step - loss: 0.1889 - accuracy: 0.9244 - val_loss: 0.0772 - val_accuracy: 0.9818\n",
      "Epoch 9/50\n",
      "35/35 [==============================] - 0s 6ms/step - loss: 0.1632 - accuracy: 0.9299 - val_loss: 0.0669 - val_accuracy: 0.9818\n",
      "Epoch 10/50\n",
      "35/35 [==============================] - 0s 7ms/step - loss: 0.2061 - accuracy: 0.9071 - val_loss: 0.0694 - val_accuracy: 0.9891\n",
      "Epoch 11/50\n",
      "35/35 [==============================] - 0s 7ms/step - loss: 0.1853 - accuracy: 0.9244 - val_loss: 0.0684 - val_accuracy: 0.9891\n",
      "Epoch 12/50\n",
      "35/35 [==============================] - 0s 6ms/step - loss: 0.1609 - accuracy: 0.9281 - val_loss: 0.0674 - val_accuracy: 0.9781\n",
      "Epoch 13/50\n",
      "35/35 [==============================] - 0s 6ms/step - loss: 0.1855 - accuracy: 0.9281 - val_loss: 0.0636 - val_accuracy: 0.9927\n",
      "Epoch 14/50\n",
      "35/35 [==============================] - 0s 5ms/step - loss: 0.1868 - accuracy: 0.9189 - val_loss: 0.0654 - val_accuracy: 0.9854\n",
      "Epoch 15/50\n",
      "35/35 [==============================] - 0s 5ms/step - loss: 0.1828 - accuracy: 0.9180 - val_loss: 0.0639 - val_accuracy: 0.9818\n",
      "Epoch 16/50\n",
      "35/35 [==============================] - 0s 6ms/step - loss: 0.1569 - accuracy: 0.9317 - val_loss: 0.0552 - val_accuracy: 0.9927\n",
      "Epoch 17/50\n",
      "35/35 [==============================] - 0s 6ms/step - loss: 0.1752 - accuracy: 0.9226 - val_loss: 0.0664 - val_accuracy: 0.9818\n",
      "Epoch 18/50\n",
      "35/35 [==============================] - 0s 6ms/step - loss: 0.1587 - accuracy: 0.9271 - val_loss: 0.0601 - val_accuracy: 0.9818\n",
      "Epoch 19/50\n",
      "35/35 [==============================] - 0s 6ms/step - loss: 0.1896 - accuracy: 0.9199 - val_loss: 0.0668 - val_accuracy: 0.9854\n",
      "Epoch 20/50\n",
      "35/35 [==============================] - 0s 6ms/step - loss: 0.1704 - accuracy: 0.9335 - val_loss: 0.0592 - val_accuracy: 0.9818\n",
      "Epoch 21/50\n",
      "35/35 [==============================] - 0s 6ms/step - loss: 0.1665 - accuracy: 0.9299 - val_loss: 0.0608 - val_accuracy: 0.9891\n",
      "Epoch 22/50\n",
      "35/35 [==============================] - 0s 6ms/step - loss: 0.1670 - accuracy: 0.9372 - val_loss: 0.0559 - val_accuracy: 0.9818\n",
      "Epoch 23/50\n",
      "35/35 [==============================] - 0s 6ms/step - loss: 0.1734 - accuracy: 0.9353 - val_loss: 0.0648 - val_accuracy: 0.9891\n",
      "Epoch 24/50\n",
      "35/35 [==============================] - 0s 5ms/step - loss: 0.1703 - accuracy: 0.9244 - val_loss: 0.0620 - val_accuracy: 0.9818\n",
      "Epoch 25/50\n",
      "35/35 [==============================] - 0s 6ms/step - loss: 0.1670 - accuracy: 0.9271 - val_loss: 0.0608 - val_accuracy: 0.9927\n",
      "Epoch 26/50\n",
      "35/35 [==============================] - 0s 7ms/step - loss: 0.1624 - accuracy: 0.9290 - val_loss: 0.0571 - val_accuracy: 0.9891\n",
      "Epoch 27/50\n",
      "35/35 [==============================] - 0s 6ms/step - loss: 0.1841 - accuracy: 0.9180 - val_loss: 0.0668 - val_accuracy: 0.9818\n",
      "Epoch 28/50\n",
      "35/35 [==============================] - 0s 7ms/step - loss: 0.1827 - accuracy: 0.9217 - val_loss: 0.0625 - val_accuracy: 0.9891\n",
      "Epoch 29/50\n",
      "35/35 [==============================] - 0s 6ms/step - loss: 0.1671 - accuracy: 0.9281 - val_loss: 0.0610 - val_accuracy: 0.9891\n",
      "Epoch 30/50\n",
      "35/35 [==============================] - 0s 7ms/step - loss: 0.1673 - accuracy: 0.9290 - val_loss: 0.0614 - val_accuracy: 0.9891\n",
      "Epoch 31/50\n",
      "35/35 [==============================] - 0s 6ms/step - loss: 0.1852 - accuracy: 0.9226 - val_loss: 0.0649 - val_accuracy: 0.9854\n",
      "Epoch 32/50\n",
      "35/35 [==============================] - 0s 4ms/step - loss: 0.2058 - accuracy: 0.9035 - val_loss: 0.0676 - val_accuracy: 0.9927\n",
      "Epoch 33/50\n",
      "35/35 [==============================] - 0s 5ms/step - loss: 0.1621 - accuracy: 0.9262 - val_loss: 0.0713 - val_accuracy: 0.9781\n",
      "Epoch 34/50\n",
      "35/35 [==============================] - 0s 5ms/step - loss: 0.1649 - accuracy: 0.9362 - val_loss: 0.0601 - val_accuracy: 0.9891\n",
      "Epoch 35/50\n",
      "35/35 [==============================] - 0s 5ms/step - loss: 0.1840 - accuracy: 0.9290 - val_loss: 0.0560 - val_accuracy: 0.9927\n",
      "Epoch 36/50\n",
      "35/35 [==============================] - 0s 5ms/step - loss: 0.1743 - accuracy: 0.9235 - val_loss: 0.0807 - val_accuracy: 0.9854\n",
      "Epoch 37/50\n",
      "35/35 [==============================] - 0s 4ms/step - loss: 0.1717 - accuracy: 0.9271 - val_loss: 0.0583 - val_accuracy: 0.9927\n",
      "Epoch 38/50\n",
      "35/35 [==============================] - 0s 4ms/step - loss: 0.2127 - accuracy: 0.9080 - val_loss: 0.0579 - val_accuracy: 0.9964\n",
      "Epoch 39/50\n",
      "35/35 [==============================] - 0s 4ms/step - loss: 0.1615 - accuracy: 0.9281 - val_loss: 0.0601 - val_accuracy: 0.9927\n",
      "Epoch 40/50\n",
      "35/35 [==============================] - 0s 5ms/step - loss: 0.1731 - accuracy: 0.9226 - val_loss: 0.0605 - val_accuracy: 0.9781\n",
      "Epoch 41/50\n",
      "35/35 [==============================] - 0s 5ms/step - loss: 0.1647 - accuracy: 0.9290 - val_loss: 0.0596 - val_accuracy: 0.9854\n",
      "Epoch 42/50\n",
      "35/35 [==============================] - 0s 5ms/step - loss: 0.1661 - accuracy: 0.9271 - val_loss: 0.0526 - val_accuracy: 0.9927\n",
      "Epoch 43/50\n",
      "35/35 [==============================] - 0s 5ms/step - loss: 0.2034 - accuracy: 0.9071 - val_loss: 0.0611 - val_accuracy: 0.9854\n",
      "Epoch 44/50\n",
      "35/35 [==============================] - 0s 5ms/step - loss: 0.1873 - accuracy: 0.9180 - val_loss: 0.0730 - val_accuracy: 0.9891\n",
      "Epoch 45/50\n",
      "35/35 [==============================] - 0s 6ms/step - loss: 0.1517 - accuracy: 0.9308 - val_loss: 0.0559 - val_accuracy: 0.9927\n",
      "Epoch 46/50\n",
      "35/35 [==============================] - 0s 7ms/step - loss: 0.1584 - accuracy: 0.9299 - val_loss: 0.0633 - val_accuracy: 0.9854\n",
      "Epoch 47/50\n",
      "35/35 [==============================] - 0s 7ms/step - loss: 0.1704 - accuracy: 0.9189 - val_loss: 0.0688 - val_accuracy: 0.9818\n",
      "Epoch 48/50\n",
      "35/35 [==============================] - 0s 7ms/step - loss: 0.1557 - accuracy: 0.9335 - val_loss: 0.0514 - val_accuracy: 0.9964\n",
      "Epoch 49/50\n",
      "35/35 [==============================] - 0s 7ms/step - loss: 0.1872 - accuracy: 0.9226 - val_loss: 0.0512 - val_accuracy: 0.9964\n",
      "Epoch 50/50\n",
      "35/35 [==============================] - 0s 6ms/step - loss: 0.1479 - accuracy: 0.9372 - val_loss: 0.0523 - val_accuracy: 0.9891\n"
     ]
    }
   ],
   "source": [
    "fitted_model = model.fit(\n",
    "        X_train, y_train,\n",
    "        epochs=50,  \n",
    "        validation_data=(X_test, y_test)\n",
    "        )"
   ]
  },
  {
   "cell_type": "code",
   "execution_count": null,
   "metadata": {},
   "outputs": [],
   "source": []
  },
  {
   "cell_type": "code",
   "execution_count": 39,
   "metadata": {},
   "outputs": [
    {
     "data": {
      "image/png": "[encoded data removed]",
      "text/plain": [
       "<Figure size 720x720 with 1 Axes>"
      ]
     },
     "metadata": {
      "needs_background": "light"
     },
     "output_type": "display_data"
    }
   ],
   "source": [
    "plt.figure(figsize=(10,10))\n",
    "plt.title('Test_accuracy V/s validation_accuracy')\n",
    "plt.plot(fitted_model.history['accuracy'])\n",
    "plt.plot(fitted_model.history['val_accuracy'])\n",
    "plt.show()\n"
   ]
  },
  {
   "cell_type": "code",
   "execution_count": 22,
   "metadata": {
    "execution": {
     "iopub.execute_input": "2020-08-30T18:48:03.842749Z",
     "iopub.status.busy": "2020-08-30T18:48:03.841597Z",
     "iopub.status.idle": "2020-08-30T18:48:04.054009Z",
     "shell.execute_reply": "2020-08-30T18:48:04.052877Z"
    },
    "papermill": {
     "duration": 0.242885,
     "end_time": "2020-08-30T18:48:04.054177",
     "exception": false,
     "start_time": "2020-08-30T18:48:03.811292",
     "status": "completed"
    },
    "tags": []
   },
   "outputs": [
    {
     "name": "stdout",
     "output_type": "stream",
     "text": [
      "\n",
      "Loss, accuracy on test data: \n",
      "0.0678 99.27%\n"
     ]
    }
   ],
   "source": [
    "eval = model.evaluate(X_test, y_test, verbose=0) \n",
    "print(\"\\nLoss, accuracy on test data: \")\n",
    "print(\"%0.4f %0.2f%%\" % (eval[0],eval[1]*100))"
   ]
  },
  {
   "cell_type": "code",
   "execution_count": null,
   "metadata": {},
   "outputs": [],
   "source": [
    "history=model.history()"
   ]
  },
  {
   "cell_type": "markdown",
   "metadata": {
    "papermill": {
     "duration": 0.022686,
     "end_time": "2020-08-30T18:48:04.099858",
     "exception": false,
     "start_time": "2020-08-30T18:48:04.077172",
     "status": "completed"
    },
    "tags": []
   },
   "source": [
    "This concludes my code on bank note prediction. As can be seen, we have got an accuracy of ~99% ."
   ]
  },
  {
   "cell_type": "code",
   "execution_count": null,
   "metadata": {
    "papermill": {
     "duration": 0.022301,
     "end_time": "2020-08-30T18:48:04.144673",
     "exception": false,
     "start_time": "2020-08-30T18:48:04.122372",
     "status": "completed"
    },
    "tags": []
   },
   "outputs": [],
   "source": []
  },
  {
   "cell_type": "code",
   "execution_count": 24,
   "metadata": {},
   "outputs": [
    {
     "name": "stdout",
     "output_type": "stream",
     "text": [
      "K-Fold 1\n",
      "9/9 [==============================] - 0s 3ms/step - loss: 0.0710 - accuracy: 0.9855\n",
      "9/9 [==============================] - 0s 3ms/step\n",
      "              precision    recall  f1-score   support\n",
      "\n",
      "           0       0.99      0.99      0.99       148\n",
      "           1       0.98      0.98      0.98       127\n",
      "\n",
      "    accuracy                           0.99       275\n",
      "   macro avg       0.99      0.99      0.99       275\n",
      "weighted avg       0.99      0.99      0.99       275\n",
      "\n",
      "K-Fold 2\n",
      "9/9 [==============================] - 0s 3ms/step - loss: 0.0638 - accuracy: 0.9855\n",
      "9/9 [==============================] - 0s 4ms/step\n",
      "              precision    recall  f1-score   support\n",
      "\n",
      "           0       0.98      0.99      0.99       156\n",
      "           1       0.99      0.97      0.98       119\n",
      "\n",
      "    accuracy                           0.99       275\n",
      "   macro avg       0.99      0.98      0.99       275\n",
      "weighted avg       0.99      0.99      0.99       275\n",
      "\n",
      "K-Fold 3\n",
      "9/9 [==============================] - 0s 3ms/step - loss: 0.0879 - accuracy: 0.9635\n",
      "9/9 [==============================] - 0s 3ms/step\n",
      "              precision    recall  f1-score   support\n",
      "\n",
      "           0       0.99      0.94      0.97       163\n",
      "           1       0.92      0.99      0.96       111\n",
      "\n",
      "    accuracy                           0.96       274\n",
      "   macro avg       0.96      0.97      0.96       274\n",
      "weighted avg       0.97      0.96      0.96       274\n",
      "\n",
      "K-Fold 4\n",
      "9/9 [==============================] - 0s 5ms/step - loss: 0.0659 - accuracy: 0.9927\n",
      "9/9 [==============================] - 0s 3ms/step\n",
      "              precision    recall  f1-score   support\n",
      "\n",
      "           0       0.99      0.99      0.99       152\n",
      "           1       0.99      0.99      0.99       122\n",
      "\n",
      "    accuracy                           0.99       274\n",
      "   macro avg       0.99      0.99      0.99       274\n",
      "weighted avg       0.99      0.99      0.99       274\n",
      "\n",
      "K-Fold 5\n",
      "9/9 [==============================] - 0s 4ms/step - loss: 0.0754 - accuracy: 0.9818\n",
      "9/9 [==============================] - 0s 3ms/step\n",
      "              precision    recall  f1-score   support\n",
      "\n",
      "           0       0.99      0.97      0.98       143\n",
      "           1       0.97      0.99      0.98       131\n",
      "\n",
      "    accuracy                           0.98       274\n",
      "   macro avg       0.98      0.98      0.98       274\n",
      "weighted avg       0.98      0.98      0.98       274\n",
      "\n",
      "scores : [[0.07103026658296585, 0.9854545593261719], [0.0637858435511589, 0.9854545593261719], [0.08792722225189209, 0.9635036587715149], [0.0659308210015297, 0.9927007555961609], [0.07542815059423447, 0.9817517995834351]]\n",
      "avg_scores : 1.054593527317047\n",
      "accuracies : [0.9854545454545455, 0.9854545454545455, 0.9635036496350365, 0.9927007299270073, 0.9817518248175182]\n",
      "avg_accuracies : 0.9817730590577305\n"
     ]
    }
   ],
   "source": [
    "from sklearn.model_selection import KFold\n",
    "from sklearn.linear_model import LinearRegression\n",
    "import pandas as pd\n",
    "\n",
    "# Assume you have a dataframe called 'data' with features and target variable\n",
    "X = bank_note_data_normalized # Features\n",
    "y = bank_note_data['class']  # Target variable\n",
    "\n",
    "# Create an instance of KFold with the desired number of folds\n",
    "k = 5  # Number of folds\n",
    "kf = KFold(n_splits=k, shuffle=True, random_state=42)\n",
    "\n",
    "# Initialize an empty list to store the evaluation scores\n",
    "scores = []\n",
    "accuracies=[]\n",
    "fold=1\n",
    "\n",
    "# Iterate over the folds\n",
    "for train_index, test_index in kf.split(X):\n",
    "    X_train, X_test = X.iloc[train_index], X.iloc[test_index]\n",
    "    y_train, y_test = y.iloc[train_index], y.iloc[test_index]\n",
    "    # Initialize and train your model\n",
    "    model.fit(X_train, y_train,verbose=False)\n",
    "    print('K-Fold',fold)\n",
    "    fold+=1\n",
    "    # Evaluate the model on the test set\n",
    "    score = model.evaluate(X_test, y_test)\n",
    "    y_pred = model.predict(X_test)\n",
    "    y_pred_1=[1 if i[0]>0.5 else 0 for i in y_pred]\n",
    "    accuracy=accuracy_score(y_test,y_pred_1)\n",
    "    accuracies.append(accuracy)\n",
    "    print(classification_report(y_test,y_pred_1))\n",
    "    scores.append(score)\n",
    "\n",
    "# Calculate the average score across all folds\n",
    "print(\"scores :\",scores)\n",
    "print(\"avg_scores :\",sum([sum(i) for i in scores])/len(scores))\n",
    "print(\"accuracies :\",accuracies)\n",
    "print(\"avg_accuracies :\",sum(accuracies)/len(accuracies))\n"
   ]
  },
  {
   "cell_type": "code",
   "execution_count": null,
   "metadata": {},
   "outputs": [],
   "source": [
    "fold_labels = range(1, k+1)\n",
    "plt.plot(fold_labels, train_accuracies, label='Train Accuracy')\n",
    "plt.plot(fold_labels, test_accuracies, label='Test Accuracy')\n",
    "plt.xlabel('Fold')\n",
    "plt.ylabel('Accuracy')\n",
    "plt.title('Train and Test Accuracies')\n",
    "plt.legend()\n",
    "plt.show()"
   ]
  },
  {
   "cell_type": "code",
   "execution_count": null,
   "metadata": {},
   "outputs": [],
   "source": []
  },
  {
   "cell_type": "code",
   "execution_count": null,
   "metadata": {},
   "outputs": [],
   "source": []
  },
  {
   "cell_type": "code",
   "execution_count": null,
   "metadata": {},
   "outputs": [],
   "source": []
  }
 ],
 "metadata": {
  "kernelspec": {
   "display_name": "Python 3 (ipykernel)",
   "language": "python",
   "name": "python3"
  },
  "language_info": {
   "codemirror_mode": {
    "name": "ipython",
    "version": 3
   },
   "file_extension": ".py",
   "mimetype": "text/x-python",
   "name": "python",
   "nbconvert_exporter": "python",
   "pygments_lexer": "ipython3",
   "version": "3.9.12"
  },
  "papermill": {
   "duration": 22.953473,
   "end_time": "2020-08-30T18:48:04.276044",
   "environment_variables": {},
   "exception": null,
   "input_path": "__notebook__.ipynb",
   "output_path": "__notebook__.ipynb",
   "parameters": {},
   "start_time": "2020-08-30T18:47:41.322571",
   "version": "2.1.0"
  }
 },
 "nbformat": 4,
 "nbformat_minor": 4
}
